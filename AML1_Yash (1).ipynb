{
 "cells": [
  {
   "cell_type": "markdown",
   "metadata": {
    "id": "9X-qA-zis59H"
   },
   "source": [
    "# **Fare Prediction Model**\n",
    "\n",
    "\n",
    "---\n",
    "\n",
    "![download.jpg](data:image/jpeg;base64,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)"
   ]
  },
  {
   "cell_type": "markdown",
   "metadata": {
    "id": "YuHaLUkptyVj"
   },
   "source": [
    "# **Objective**\n",
    "\n",
    "---\n",
    "The goal is to create fare price prection model for the ride hailing companies Uber and Lyft in the greater Boston area.\n"
   ]
  },
  {
   "cell_type": "markdown",
   "metadata": {
    "id": "kaLlby9VuN_T"
   },
   "source": [
    "# **All about data**\n",
    "---\n",
    "\n",
    "Following Question were answered about Data:\n",
    "\n",
    "\n",
    "1. How much data is present?\n",
    "2. What attributes/features are continuous valued? \n",
    "3. Which attributes are categorical?\n",
    "\n"
   ]
  },
  {
   "cell_type": "code",
   "execution_count": 1,
   "metadata": {
    "id": "vD-TttpUuLe5"
   },
   "outputs": [],
   "source": [
    "import pandas as pd\n",
    "import matplotlib.pyplot as plt\n",
    "import seaborn as sns\n",
    "import numpy as np\n",
    "from numpy import mean\n",
    "from numpy import absolute\n",
    "from numpy import sqrt\n",
    "\n",
    "from sklearn.preprocessing import OneHotEncoder, LabelEncoder\n",
    "from IPython.display import Image\n",
    "from scipy import stats\n",
    "from sklearn.preprocessing import OneHotEncoder\n",
    "from sklearn.preprocessing import StandardScaler\n",
    "from sklearn.linear_model import Ridge\n",
    "from sklearn.linear_model import Lasso\n",
    "from sklearn.linear_model import SGDRegressor\n",
    "from sklearn.linear_model import ElasticNet\n",
    "from sklearn import preprocessing,svm\n",
    "from sklearn.model_selection import KFold\n",
    "from sklearn.model_selection import StratifiedKFold\n",
    "from sklearn.model_selection import cross_val_score\n",
    "from sklearn.model_selection import train_test_split\n",
    "from sklearn.linear_model import LinearRegression\n",
    "from sklearn.metrics import mean_absolute_error,r2_score,mean_squared_error\n",
    "from sklearn.pipeline import Pipeline\n"
   ]
  },
  {
   "cell_type": "code",
   "execution_count": 2,
   "metadata": {
    "colab": {
     "base_uri": "https://localhost:8080/",
     "height": 559
    },
    "id": "o6SNPh-yvKfk",
    "outputId": "40baceb7-1053-4e92-817b-9729bacd1a24"
   },
   "outputs": [
    {
     "data": {
      "text/html": [
       "\n",
       "  <div id=\"df-497df773-311c-445e-ac1e-5bca8cda8740\">\n",
       "    <div class=\"colab-df-container\">\n",
       "      <div>\n",
       "<style scoped>\n",
       "    .dataframe tbody tr th:only-of-type {\n",
       "        vertical-align: middle;\n",
       "    }\n",
       "\n",
       "    .dataframe tbody tr th {\n",
       "        vertical-align: top;\n",
       "    }\n",
       "\n",
       "    .dataframe thead th {\n",
       "        text-align: right;\n",
       "    }\n",
       "</style>\n",
       "<table border=\"1\" class=\"dataframe\">\n",
       "  <thead>\n",
       "    <tr style=\"text-align: right;\">\n",
       "      <th></th>\n",
       "      <th>id</th>\n",
       "      <th>timestamp</th>\n",
       "      <th>hour</th>\n",
       "      <th>day</th>\n",
       "      <th>month</th>\n",
       "      <th>datetime</th>\n",
       "      <th>timezone</th>\n",
       "      <th>source</th>\n",
       "      <th>destination</th>\n",
       "      <th>cab_type</th>\n",
       "      <th>...</th>\n",
       "      <th>precipIntensityMax</th>\n",
       "      <th>uvIndexTime</th>\n",
       "      <th>temperatureMin</th>\n",
       "      <th>temperatureMinTime</th>\n",
       "      <th>temperatureMax</th>\n",
       "      <th>temperatureMaxTime</th>\n",
       "      <th>apparentTemperatureMin</th>\n",
       "      <th>apparentTemperatureMinTime</th>\n",
       "      <th>apparentTemperatureMax</th>\n",
       "      <th>apparentTemperatureMaxTime</th>\n",
       "    </tr>\n",
       "  </thead>\n",
       "  <tbody>\n",
       "    <tr>\n",
       "      <th>0</th>\n",
       "      <td>424553bb-7174-41ea-aeb4-fe06d4f4b9d7</td>\n",
       "      <td>1.544953e+09</td>\n",
       "      <td>9</td>\n",
       "      <td>16</td>\n",
       "      <td>12</td>\n",
       "      <td>2018-12-16 09:30:07</td>\n",
       "      <td>America/New_York</td>\n",
       "      <td>Haymarket Square</td>\n",
       "      <td>North Station</td>\n",
       "      <td>Lyft</td>\n",
       "      <td>...</td>\n",
       "      <td>0.1276</td>\n",
       "      <td>1544979600</td>\n",
       "      <td>39.89</td>\n",
       "      <td>1545012000</td>\n",
       "      <td>43.68</td>\n",
       "      <td>1544968800</td>\n",
       "      <td>33.73</td>\n",
       "      <td>1545012000</td>\n",
       "      <td>38.07</td>\n",
       "      <td>1544958000</td>\n",
       "    </tr>\n",
       "    <tr>\n",
       "      <th>1</th>\n",
       "      <td>4bd23055-6827-41c6-b23b-3c491f24e74d</td>\n",
       "      <td>1.543284e+09</td>\n",
       "      <td>2</td>\n",
       "      <td>27</td>\n",
       "      <td>11</td>\n",
       "      <td>2018-11-27 02:00:23</td>\n",
       "      <td>America/New_York</td>\n",
       "      <td>Haymarket Square</td>\n",
       "      <td>North Station</td>\n",
       "      <td>Lyft</td>\n",
       "      <td>...</td>\n",
       "      <td>0.1300</td>\n",
       "      <td>1543251600</td>\n",
       "      <td>40.49</td>\n",
       "      <td>1543233600</td>\n",
       "      <td>47.30</td>\n",
       "      <td>1543251600</td>\n",
       "      <td>36.20</td>\n",
       "      <td>1543291200</td>\n",
       "      <td>43.92</td>\n",
       "      <td>1543251600</td>\n",
       "    </tr>\n",
       "    <tr>\n",
       "      <th>2</th>\n",
       "      <td>981a3613-77af-4620-a42a-0c0866077d1e</td>\n",
       "      <td>1.543367e+09</td>\n",
       "      <td>1</td>\n",
       "      <td>28</td>\n",
       "      <td>11</td>\n",
       "      <td>2018-11-28 01:00:22</td>\n",
       "      <td>America/New_York</td>\n",
       "      <td>Haymarket Square</td>\n",
       "      <td>North Station</td>\n",
       "      <td>Lyft</td>\n",
       "      <td>...</td>\n",
       "      <td>0.1064</td>\n",
       "      <td>1543338000</td>\n",
       "      <td>35.36</td>\n",
       "      <td>1543377600</td>\n",
       "      <td>47.55</td>\n",
       "      <td>1543320000</td>\n",
       "      <td>31.04</td>\n",
       "      <td>1543377600</td>\n",
       "      <td>44.12</td>\n",
       "      <td>1543320000</td>\n",
       "    </tr>\n",
       "    <tr>\n",
       "      <th>3</th>\n",
       "      <td>c2d88af2-d278-4bfd-a8d0-29ca77cc5512</td>\n",
       "      <td>1.543554e+09</td>\n",
       "      <td>4</td>\n",
       "      <td>30</td>\n",
       "      <td>11</td>\n",
       "      <td>2018-11-30 04:53:02</td>\n",
       "      <td>America/New_York</td>\n",
       "      <td>Haymarket Square</td>\n",
       "      <td>North Station</td>\n",
       "      <td>Lyft</td>\n",
       "      <td>...</td>\n",
       "      <td>0.0000</td>\n",
       "      <td>1543507200</td>\n",
       "      <td>34.67</td>\n",
       "      <td>1543550400</td>\n",
       "      <td>45.03</td>\n",
       "      <td>1543510800</td>\n",
       "      <td>30.30</td>\n",
       "      <td>1543550400</td>\n",
       "      <td>38.53</td>\n",
       "      <td>1543510800</td>\n",
       "    </tr>\n",
       "    <tr>\n",
       "      <th>4</th>\n",
       "      <td>e0126e1f-8ca9-4f2e-82b3-50505a09db9a</td>\n",
       "      <td>1.543463e+09</td>\n",
       "      <td>3</td>\n",
       "      <td>29</td>\n",
       "      <td>11</td>\n",
       "      <td>2018-11-29 03:49:20</td>\n",
       "      <td>America/New_York</td>\n",
       "      <td>Haymarket Square</td>\n",
       "      <td>North Station</td>\n",
       "      <td>Lyft</td>\n",
       "      <td>...</td>\n",
       "      <td>0.0001</td>\n",
       "      <td>1543420800</td>\n",
       "      <td>33.10</td>\n",
       "      <td>1543402800</td>\n",
       "      <td>42.18</td>\n",
       "      <td>1543420800</td>\n",
       "      <td>29.11</td>\n",
       "      <td>1543392000</td>\n",
       "      <td>35.75</td>\n",
       "      <td>1543420800</td>\n",
       "    </tr>\n",
       "  </tbody>\n",
       "</table>\n",
       "<p>5 rows × 57 columns</p>\n",
       "</div>\n",
       "      <button class=\"colab-df-convert\" onclick=\"convertToInteractive('df-497df773-311c-445e-ac1e-5bca8cda8740')\"\n",
       "              title=\"Convert this dataframe to an interactive table.\"\n",
       "              style=\"display:none;\">\n",
       "        \n",
       "  <svg xmlns=\"http://www.w3.org/2000/svg\" height=\"24px\"viewBox=\"0 0 24 24\"\n",
       "       width=\"24px\">\n",
       "    <path d=\"M0 0h24v24H0V0z\" fill=\"none\"/>\n",
       "    <path d=\"M18.56 5.44l.94 2.06.94-2.06 2.06-.94-2.06-.94-.94-2.06-.94 2.06-2.06.94zm-11 1L8.5 8.5l.94-2.06 2.06-.94-2.06-.94L8.5 2.5l-.94 2.06-2.06.94zm10 10l.94 2.06.94-2.06 2.06-.94-2.06-.94-.94-2.06-.94 2.06-2.06.94z\"/><path d=\"M17.41 7.96l-1.37-1.37c-.4-.4-.92-.59-1.43-.59-.52 0-1.04.2-1.43.59L10.3 9.45l-7.72 7.72c-.78.78-.78 2.05 0 2.83L4 21.41c.39.39.9.59 1.41.59.51 0 1.02-.2 1.41-.59l7.78-7.78 2.81-2.81c.8-.78.8-2.07 0-2.86zM5.41 20L4 18.59l7.72-7.72 1.47 1.35L5.41 20z\"/>\n",
       "  </svg>\n",
       "      </button>\n",
       "      \n",
       "  <style>\n",
       "    .colab-df-container {\n",
       "      display:flex;\n",
       "      flex-wrap:wrap;\n",
       "      gap: 12px;\n",
       "    }\n",
       "\n",
       "    .colab-df-convert {\n",
       "      background-color: #E8F0FE;\n",
       "      border: none;\n",
       "      border-radius: 50%;\n",
       "      cursor: pointer;\n",
       "      display: none;\n",
       "      fill: #1967D2;\n",
       "      height: 32px;\n",
       "      padding: 0 0 0 0;\n",
       "      width: 32px;\n",
       "    }\n",
       "\n",
       "    .colab-df-convert:hover {\n",
       "      background-color: #E2EBFA;\n",
       "      box-shadow: 0px 1px 2px rgba(60, 64, 67, 0.3), 0px 1px 3px 1px rgba(60, 64, 67, 0.15);\n",
       "      fill: #174EA6;\n",
       "    }\n",
       "\n",
       "    [theme=dark] .colab-df-convert {\n",
       "      background-color: #3B4455;\n",
       "      fill: #D2E3FC;\n",
       "    }\n",
       "\n",
       "    [theme=dark] .colab-df-convert:hover {\n",
       "      background-color: #434B5C;\n",
       "      box-shadow: 0px 1px 3px 1px rgba(0, 0, 0, 0.15);\n",
       "      filter: drop-shadow(0px 1px 2px rgba(0, 0, 0, 0.3));\n",
       "      fill: #FFFFFF;\n",
       "    }\n",
       "  </style>\n",
       "\n",
       "      <script>\n",
       "        const buttonEl =\n",
       "          document.querySelector('#df-497df773-311c-445e-ac1e-5bca8cda8740 button.colab-df-convert');\n",
       "        buttonEl.style.display =\n",
       "          google.colab.kernel.accessAllowed ? 'block' : 'none';\n",
       "\n",
       "        async function convertToInteractive(key) {\n",
       "          const element = document.querySelector('#df-497df773-311c-445e-ac1e-5bca8cda8740');\n",
       "          const dataTable =\n",
       "            await google.colab.kernel.invokeFunction('convertToInteractive',\n",
       "                                                     [key], {});\n",
       "          if (!dataTable) return;\n",
       "\n",
       "          const docLinkHtml = 'Like what you see? Visit the ' +\n",
       "            '<a target=\"_blank\" href=https://colab.research.google.com/notebooks/data_table.ipynb>data table notebook</a>'\n",
       "            + ' to learn more about interactive tables.';\n",
       "          element.innerHTML = '';\n",
       "          dataTable['output_type'] = 'display_data';\n",
       "          await google.colab.output.renderOutput(dataTable, element);\n",
       "          const docLink = document.createElement('div');\n",
       "          docLink.innerHTML = docLinkHtml;\n",
       "          element.appendChild(docLink);\n",
       "        }\n",
       "      </script>\n",
       "    </div>\n",
       "  </div>\n",
       "  "
      ],
      "text/plain": [
       "                                     id     timestamp  hour  day  month  \\\n",
       "0  424553bb-7174-41ea-aeb4-fe06d4f4b9d7  1.544953e+09     9   16     12   \n",
       "1  4bd23055-6827-41c6-b23b-3c491f24e74d  1.543284e+09     2   27     11   \n",
       "2  981a3613-77af-4620-a42a-0c0866077d1e  1.543367e+09     1   28     11   \n",
       "3  c2d88af2-d278-4bfd-a8d0-29ca77cc5512  1.543554e+09     4   30     11   \n",
       "4  e0126e1f-8ca9-4f2e-82b3-50505a09db9a  1.543463e+09     3   29     11   \n",
       "\n",
       "              datetime          timezone            source    destination  \\\n",
       "0  2018-12-16 09:30:07  America/New_York  Haymarket Square  North Station   \n",
       "1  2018-11-27 02:00:23  America/New_York  Haymarket Square  North Station   \n",
       "2  2018-11-28 01:00:22  America/New_York  Haymarket Square  North Station   \n",
       "3  2018-11-30 04:53:02  America/New_York  Haymarket Square  North Station   \n",
       "4  2018-11-29 03:49:20  America/New_York  Haymarket Square  North Station   \n",
       "\n",
       "  cab_type  ... precipIntensityMax uvIndexTime  temperatureMin  \\\n",
       "0     Lyft  ...             0.1276  1544979600           39.89   \n",
       "1     Lyft  ...             0.1300  1543251600           40.49   \n",
       "2     Lyft  ...             0.1064  1543338000           35.36   \n",
       "3     Lyft  ...             0.0000  1543507200           34.67   \n",
       "4     Lyft  ...             0.0001  1543420800           33.10   \n",
       "\n",
       "   temperatureMinTime  temperatureMax  temperatureMaxTime  \\\n",
       "0          1545012000           43.68          1544968800   \n",
       "1          1543233600           47.30          1543251600   \n",
       "2          1543377600           47.55          1543320000   \n",
       "3          1543550400           45.03          1543510800   \n",
       "4          1543402800           42.18          1543420800   \n",
       "\n",
       "   apparentTemperatureMin  apparentTemperatureMinTime  apparentTemperatureMax  \\\n",
       "0                   33.73                  1545012000                   38.07   \n",
       "1                   36.20                  1543291200                   43.92   \n",
       "2                   31.04                  1543377600                   44.12   \n",
       "3                   30.30                  1543550400                   38.53   \n",
       "4                   29.11                  1543392000                   35.75   \n",
       "\n",
       "  apparentTemperatureMaxTime  \n",
       "0                 1544958000  \n",
       "1                 1543251600  \n",
       "2                 1543320000  \n",
       "3                 1543510800  \n",
       "4                 1543420800  \n",
       "\n",
       "[5 rows x 57 columns]"
      ]
     },
     "execution_count": 2,
     "metadata": {},
     "output_type": "execute_result"
    }
   ],
   "source": [
    "data = pd.read_csv(\"/content/drive/MyDrive/Colab Notebooks/AppliedML/rideshare_kaggle.csv/rideshare_kaggle.csv\")\n",
    "data.head()"
   ]
  },
  {
   "cell_type": "code",
   "execution_count": 3,
   "metadata": {
    "colab": {
     "base_uri": "https://localhost:8080/"
    },
    "id": "HLimX0y40AS1",
    "outputId": "14647ea8-9cd5-4930-8ed8-24667fb631fa"
   },
   "outputs": [
    {
     "data": {
      "text/plain": [
       "(693071, 57)"
      ]
     },
     "execution_count": 3,
     "metadata": {},
     "output_type": "execute_result"
    }
   ],
   "source": [
    "data.shape"
   ]
  },
  {
   "cell_type": "markdown",
   "metadata": {
    "id": "iHNwspC0EYew"
   },
   "source": [
    "**Answer**:\n",
    "1. Data has 693071 rows and 57 columns"
   ]
  },
  {
   "cell_type": "code",
   "execution_count": 4,
   "metadata": {
    "colab": {
     "base_uri": "https://localhost:8080/"
    },
    "id": "2FLr94KN0oLl",
    "outputId": "6a7c6202-1959-4629-d58f-78f860a6eafa"
   },
   "outputs": [
    {
     "data": {
      "text/plain": [
       "Index(['id', 'timestamp', 'hour', 'day', 'month', 'datetime', 'timezone',\n",
       "       'source', 'destination', 'cab_type', 'product_id', 'name', 'price',\n",
       "       'distance', 'surge_multiplier', 'latitude', 'longitude', 'temperature',\n",
       "       'apparentTemperature', 'short_summary', 'long_summary',\n",
       "       'precipIntensity', 'precipProbability', 'humidity', 'windSpeed',\n",
       "       'windGust', 'windGustTime', 'visibility', 'temperatureHigh',\n",
       "       'temperatureHighTime', 'temperatureLow', 'temperatureLowTime',\n",
       "       'apparentTemperatureHigh', 'apparentTemperatureHighTime',\n",
       "       'apparentTemperatureLow', 'apparentTemperatureLowTime', 'icon',\n",
       "       'dewPoint', 'pressure', 'windBearing', 'cloudCover', 'uvIndex',\n",
       "       'visibility.1', 'ozone', 'sunriseTime', 'sunsetTime', 'moonPhase',\n",
       "       'precipIntensityMax', 'uvIndexTime', 'temperatureMin',\n",
       "       'temperatureMinTime', 'temperatureMax', 'temperatureMaxTime',\n",
       "       'apparentTemperatureMin', 'apparentTemperatureMinTime',\n",
       "       'apparentTemperatureMax', 'apparentTemperatureMaxTime'],\n",
       "      dtype='object')"
      ]
     },
     "execution_count": 4,
     "metadata": {},
     "output_type": "execute_result"
    }
   ],
   "source": [
    "data.columns"
   ]
  },
  {
   "cell_type": "code",
   "execution_count": 5,
   "metadata": {
    "colab": {
     "base_uri": "https://localhost:8080/"
    },
    "id": "0yO_b47y2Nn8",
    "outputId": "38ff346a-7101-4cc4-bef8-6ae3f34599c5"
   },
   "outputs": [
    {
     "data": {
      "text/plain": [
       "id                             693071\n",
       "timestamp                       36179\n",
       "hour                               24\n",
       "day                                17\n",
       "month                               2\n",
       "datetime                        31350\n",
       "timezone                            1\n",
       "source                             12\n",
       "destination                        12\n",
       "cab_type                            2\n",
       "product_id                         13\n",
       "name                               13\n",
       "price                             147\n",
       "distance                          549\n",
       "surge_multiplier                    7\n",
       "latitude                           11\n",
       "longitude                          12\n",
       "temperature                       308\n",
       "apparentTemperature               319\n",
       "short_summary                       9\n",
       "long_summary                       11\n",
       "precipIntensity                    63\n",
       "precipProbability                  29\n",
       "humidity                           51\n",
       "windSpeed                         291\n",
       "windGust                          286\n",
       "windGustTime                       25\n",
       "visibility                        227\n",
       "temperatureHigh                   129\n",
       "temperatureHighTime                23\n",
       "temperatureLow                    133\n",
       "temperatureLowTime                 31\n",
       "apparentTemperatureHigh           124\n",
       "apparentTemperatureHighTime        27\n",
       "apparentTemperatureLow            136\n",
       "apparentTemperatureLowTime         32\n",
       "icon                                7\n",
       "dewPoint                          313\n",
       "pressure                          316\n",
       "windBearing                       195\n",
       "cloudCover                         83\n",
       "uvIndex                             3\n",
       "visibility.1                      227\n",
       "ozone                             274\n",
       "sunriseTime                       110\n",
       "sunsetTime                        114\n",
       "moonPhase                          18\n",
       "precipIntensityMax                 65\n",
       "uvIndexTime                        20\n",
       "temperatureMin                    131\n",
       "temperatureMinTime                 25\n",
       "temperatureMax                    128\n",
       "temperatureMaxTime                 23\n",
       "apparentTemperatureMin            137\n",
       "apparentTemperatureMinTime         29\n",
       "apparentTemperatureMax            125\n",
       "apparentTemperatureMaxTime         27\n",
       "dtype: int64"
      ]
     },
     "execution_count": 5,
     "metadata": {},
     "output_type": "execute_result"
    }
   ],
   "source": [
    "data.nunique(axis=0)"
   ]
  },
  {
   "cell_type": "markdown",
   "metadata": {
    "id": "aZ7hC1vWHojD"
   },
   "source": [
    "Statstical values for the every column as follows:"
   ]
  },
  {
   "cell_type": "code",
   "execution_count": 6,
   "metadata": {
    "colab": {
     "base_uri": "https://localhost:8080/",
     "height": 393
    },
    "id": "15x6NU9b2wry",
    "outputId": "2ad32bfb-bbc9-4563-c160-206339c79972"
   },
   "outputs": [
    {
     "data": {
      "text/html": [
       "\n",
       "  <div id=\"df-ce2367a6-2a4b-4118-ba02-0203001dadf4\">\n",
       "    <div class=\"colab-df-container\">\n",
       "      <div>\n",
       "<style scoped>\n",
       "    .dataframe tbody tr th:only-of-type {\n",
       "        vertical-align: middle;\n",
       "    }\n",
       "\n",
       "    .dataframe tbody tr th {\n",
       "        vertical-align: top;\n",
       "    }\n",
       "\n",
       "    .dataframe thead th {\n",
       "        text-align: right;\n",
       "    }\n",
       "</style>\n",
       "<table border=\"1\" class=\"dataframe\">\n",
       "  <thead>\n",
       "    <tr style=\"text-align: right;\">\n",
       "      <th></th>\n",
       "      <th>timestamp</th>\n",
       "      <th>hour</th>\n",
       "      <th>day</th>\n",
       "      <th>month</th>\n",
       "      <th>price</th>\n",
       "      <th>distance</th>\n",
       "      <th>surge_multiplier</th>\n",
       "      <th>latitude</th>\n",
       "      <th>longitude</th>\n",
       "      <th>temperature</th>\n",
       "      <th>...</th>\n",
       "      <th>precipIntensityMax</th>\n",
       "      <th>uvIndexTime</th>\n",
       "      <th>temperatureMin</th>\n",
       "      <th>temperatureMinTime</th>\n",
       "      <th>temperatureMax</th>\n",
       "      <th>temperatureMaxTime</th>\n",
       "      <th>apparentTemperatureMin</th>\n",
       "      <th>apparentTemperatureMinTime</th>\n",
       "      <th>apparentTemperatureMax</th>\n",
       "      <th>apparentTemperatureMaxTime</th>\n",
       "    </tr>\n",
       "  </thead>\n",
       "  <tbody>\n",
       "    <tr>\n",
       "      <th>count</th>\n",
       "      <td>693071.000000</td>\n",
       "      <td>693071.000000</td>\n",
       "      <td>693071.000000</td>\n",
       "      <td>693071.000000</td>\n",
       "      <td>637976.000000</td>\n",
       "      <td>693071.000000</td>\n",
       "      <td>693071.000000</td>\n",
       "      <td>693071.000000</td>\n",
       "      <td>693071.000000</td>\n",
       "      <td>693071.000000</td>\n",
       "      <td>...</td>\n",
       "      <td>693071.000000</td>\n",
       "      <td>693071.000000</td>\n",
       "      <td>693071.000000</td>\n",
       "      <td>693071.000000</td>\n",
       "      <td>693071.000000</td>\n",
       "      <td>693071.000000</td>\n",
       "      <td>693071.000000</td>\n",
       "      <td>693071.000000</td>\n",
       "      <td>693071.000000</td>\n",
       "      <td>693071.000000</td>\n",
       "    </tr>\n",
       "    <tr>\n",
       "      <th>mean</th>\n",
       "      <td>1544045709.755097</td>\n",
       "      <td>11.619137</td>\n",
       "      <td>17.794365</td>\n",
       "      <td>11.586684</td>\n",
       "      <td>16.545125</td>\n",
       "      <td>2.189430</td>\n",
       "      <td>1.013870</td>\n",
       "      <td>42.338172</td>\n",
       "      <td>-71.066151</td>\n",
       "      <td>39.584388</td>\n",
       "      <td>...</td>\n",
       "      <td>0.037374</td>\n",
       "      <td>1544043966.242997</td>\n",
       "      <td>33.457774</td>\n",
       "      <td>1544041609.570159</td>\n",
       "      <td>45.261313</td>\n",
       "      <td>1544047300.031310</td>\n",
       "      <td>29.731002</td>\n",
       "      <td>1544048034.740452</td>\n",
       "      <td>41.997343</td>\n",
       "      <td>1544047993.949826</td>\n",
       "    </tr>\n",
       "    <tr>\n",
       "      <th>std</th>\n",
       "      <td>689192.492586</td>\n",
       "      <td>6.948114</td>\n",
       "      <td>9.982286</td>\n",
       "      <td>0.492429</td>\n",
       "      <td>9.324359</td>\n",
       "      <td>1.138937</td>\n",
       "      <td>0.091641</td>\n",
       "      <td>0.047840</td>\n",
       "      <td>0.020302</td>\n",
       "      <td>6.726084</td>\n",
       "      <td>...</td>\n",
       "      <td>0.055214</td>\n",
       "      <td>691202.767272</td>\n",
       "      <td>6.467224</td>\n",
       "      <td>690195.441408</td>\n",
       "      <td>5.645046</td>\n",
       "      <td>690135.337190</td>\n",
       "      <td>7.110494</td>\n",
       "      <td>687186.191494</td>\n",
       "      <td>6.936841</td>\n",
       "      <td>691077.651975</td>\n",
       "    </tr>\n",
       "    <tr>\n",
       "      <th>min</th>\n",
       "      <td>1543203646.000000</td>\n",
       "      <td>0.000000</td>\n",
       "      <td>1.000000</td>\n",
       "      <td>11.000000</td>\n",
       "      <td>2.500000</td>\n",
       "      <td>0.020000</td>\n",
       "      <td>1.000000</td>\n",
       "      <td>42.214800</td>\n",
       "      <td>-71.105400</td>\n",
       "      <td>18.910000</td>\n",
       "      <td>...</td>\n",
       "      <td>0.000000</td>\n",
       "      <td>1543161600.000000</td>\n",
       "      <td>15.630000</td>\n",
       "      <td>1543122000.000000</td>\n",
       "      <td>33.510000</td>\n",
       "      <td>1543154400.000000</td>\n",
       "      <td>11.810000</td>\n",
       "      <td>1543136400.000000</td>\n",
       "      <td>28.950000</td>\n",
       "      <td>1543186800.000000</td>\n",
       "    </tr>\n",
       "    <tr>\n",
       "      <th>25%</th>\n",
       "      <td>1543443968.000000</td>\n",
       "      <td>6.000000</td>\n",
       "      <td>13.000000</td>\n",
       "      <td>11.000000</td>\n",
       "      <td>9.000000</td>\n",
       "      <td>1.280000</td>\n",
       "      <td>1.000000</td>\n",
       "      <td>42.350300</td>\n",
       "      <td>-71.081000</td>\n",
       "      <td>36.450000</td>\n",
       "      <td>...</td>\n",
       "      <td>0.000000</td>\n",
       "      <td>1543420800.000000</td>\n",
       "      <td>30.170000</td>\n",
       "      <td>1543399200.000000</td>\n",
       "      <td>42.570000</td>\n",
       "      <td>1543438800.000000</td>\n",
       "      <td>27.760000</td>\n",
       "      <td>1543399200.000000</td>\n",
       "      <td>36.570000</td>\n",
       "      <td>1543438800.000000</td>\n",
       "    </tr>\n",
       "    <tr>\n",
       "      <th>50%</th>\n",
       "      <td>1543737478.000000</td>\n",
       "      <td>12.000000</td>\n",
       "      <td>17.000000</td>\n",
       "      <td>12.000000</td>\n",
       "      <td>13.500000</td>\n",
       "      <td>2.160000</td>\n",
       "      <td>1.000000</td>\n",
       "      <td>42.351900</td>\n",
       "      <td>-71.063100</td>\n",
       "      <td>40.490000</td>\n",
       "      <td>...</td>\n",
       "      <td>0.000400</td>\n",
       "      <td>1543770000.000000</td>\n",
       "      <td>34.240000</td>\n",
       "      <td>1543726800.000000</td>\n",
       "      <td>44.680000</td>\n",
       "      <td>1543788000.000000</td>\n",
       "      <td>30.130000</td>\n",
       "      <td>1543744800.000000</td>\n",
       "      <td>40.950000</td>\n",
       "      <td>1543788000.000000</td>\n",
       "    </tr>\n",
       "    <tr>\n",
       "      <th>75%</th>\n",
       "      <td>1544827509.000000</td>\n",
       "      <td>18.000000</td>\n",
       "      <td>28.000000</td>\n",
       "      <td>12.000000</td>\n",
       "      <td>22.500000</td>\n",
       "      <td>2.920000</td>\n",
       "      <td>1.000000</td>\n",
       "      <td>42.364700</td>\n",
       "      <td>-71.054200</td>\n",
       "      <td>43.580000</td>\n",
       "      <td>...</td>\n",
       "      <td>0.091600</td>\n",
       "      <td>1544806800.000000</td>\n",
       "      <td>38.880000</td>\n",
       "      <td>1544788800.000000</td>\n",
       "      <td>46.910000</td>\n",
       "      <td>1544814000.000000</td>\n",
       "      <td>35.710000</td>\n",
       "      <td>1544788800.000000</td>\n",
       "      <td>44.120000</td>\n",
       "      <td>1544817600.000000</td>\n",
       "    </tr>\n",
       "    <tr>\n",
       "      <th>max</th>\n",
       "      <td>1545160511.000000</td>\n",
       "      <td>23.000000</td>\n",
       "      <td>30.000000</td>\n",
       "      <td>12.000000</td>\n",
       "      <td>97.500000</td>\n",
       "      <td>7.860000</td>\n",
       "      <td>3.000000</td>\n",
       "      <td>42.366100</td>\n",
       "      <td>-71.033000</td>\n",
       "      <td>57.220000</td>\n",
       "      <td>...</td>\n",
       "      <td>0.145900</td>\n",
       "      <td>1545152400.000000</td>\n",
       "      <td>43.100000</td>\n",
       "      <td>1545192000.000000</td>\n",
       "      <td>57.870000</td>\n",
       "      <td>1545109200.000000</td>\n",
       "      <td>40.050000</td>\n",
       "      <td>1545134400.000000</td>\n",
       "      <td>57.200000</td>\n",
       "      <td>1545109200.000000</td>\n",
       "    </tr>\n",
       "  </tbody>\n",
       "</table>\n",
       "<p>8 rows × 46 columns</p>\n",
       "</div>\n",
       "      <button class=\"colab-df-convert\" onclick=\"convertToInteractive('df-ce2367a6-2a4b-4118-ba02-0203001dadf4')\"\n",
       "              title=\"Convert this dataframe to an interactive table.\"\n",
       "              style=\"display:none;\">\n",
       "        \n",
       "  <svg xmlns=\"http://www.w3.org/2000/svg\" height=\"24px\"viewBox=\"0 0 24 24\"\n",
       "       width=\"24px\">\n",
       "    <path d=\"M0 0h24v24H0V0z\" fill=\"none\"/>\n",
       "    <path d=\"M18.56 5.44l.94 2.06.94-2.06 2.06-.94-2.06-.94-.94-2.06-.94 2.06-2.06.94zm-11 1L8.5 8.5l.94-2.06 2.06-.94-2.06-.94L8.5 2.5l-.94 2.06-2.06.94zm10 10l.94 2.06.94-2.06 2.06-.94-2.06-.94-.94-2.06-.94 2.06-2.06.94z\"/><path d=\"M17.41 7.96l-1.37-1.37c-.4-.4-.92-.59-1.43-.59-.52 0-1.04.2-1.43.59L10.3 9.45l-7.72 7.72c-.78.78-.78 2.05 0 2.83L4 21.41c.39.39.9.59 1.41.59.51 0 1.02-.2 1.41-.59l7.78-7.78 2.81-2.81c.8-.78.8-2.07 0-2.86zM5.41 20L4 18.59l7.72-7.72 1.47 1.35L5.41 20z\"/>\n",
       "  </svg>\n",
       "      </button>\n",
       "      \n",
       "  <style>\n",
       "    .colab-df-container {\n",
       "      display:flex;\n",
       "      flex-wrap:wrap;\n",
       "      gap: 12px;\n",
       "    }\n",
       "\n",
       "    .colab-df-convert {\n",
       "      background-color: #E8F0FE;\n",
       "      border: none;\n",
       "      border-radius: 50%;\n",
       "      cursor: pointer;\n",
       "      display: none;\n",
       "      fill: #1967D2;\n",
       "      height: 32px;\n",
       "      padding: 0 0 0 0;\n",
       "      width: 32px;\n",
       "    }\n",
       "\n",
       "    .colab-df-convert:hover {\n",
       "      background-color: #E2EBFA;\n",
       "      box-shadow: 0px 1px 2px rgba(60, 64, 67, 0.3), 0px 1px 3px 1px rgba(60, 64, 67, 0.15);\n",
       "      fill: #174EA6;\n",
       "    }\n",
       "\n",
       "    [theme=dark] .colab-df-convert {\n",
       "      background-color: #3B4455;\n",
       "      fill: #D2E3FC;\n",
       "    }\n",
       "\n",
       "    [theme=dark] .colab-df-convert:hover {\n",
       "      background-color: #434B5C;\n",
       "      box-shadow: 0px 1px 3px 1px rgba(0, 0, 0, 0.15);\n",
       "      filter: drop-shadow(0px 1px 2px rgba(0, 0, 0, 0.3));\n",
       "      fill: #FFFFFF;\n",
       "    }\n",
       "  </style>\n",
       "\n",
       "      <script>\n",
       "        const buttonEl =\n",
       "          document.querySelector('#df-ce2367a6-2a4b-4118-ba02-0203001dadf4 button.colab-df-convert');\n",
       "        buttonEl.style.display =\n",
       "          google.colab.kernel.accessAllowed ? 'block' : 'none';\n",
       "\n",
       "        async function convertToInteractive(key) {\n",
       "          const element = document.querySelector('#df-ce2367a6-2a4b-4118-ba02-0203001dadf4');\n",
       "          const dataTable =\n",
       "            await google.colab.kernel.invokeFunction('convertToInteractive',\n",
       "                                                     [key], {});\n",
       "          if (!dataTable) return;\n",
       "\n",
       "          const docLinkHtml = 'Like what you see? Visit the ' +\n",
       "            '<a target=\"_blank\" href=https://colab.research.google.com/notebooks/data_table.ipynb>data table notebook</a>'\n",
       "            + ' to learn more about interactive tables.';\n",
       "          element.innerHTML = '';\n",
       "          dataTable['output_type'] = 'display_data';\n",
       "          await google.colab.output.renderOutput(dataTable, element);\n",
       "          const docLink = document.createElement('div');\n",
       "          docLink.innerHTML = docLinkHtml;\n",
       "          element.appendChild(docLink);\n",
       "        }\n",
       "      </script>\n",
       "    </div>\n",
       "  </div>\n",
       "  "
      ],
      "text/plain": [
       "               timestamp           hour            day          month  \\\n",
       "count      693071.000000  693071.000000  693071.000000  693071.000000   \n",
       "mean   1544045709.755097      11.619137      17.794365      11.586684   \n",
       "std        689192.492586       6.948114       9.982286       0.492429   \n",
       "min    1543203646.000000       0.000000       1.000000      11.000000   \n",
       "25%    1543443968.000000       6.000000      13.000000      11.000000   \n",
       "50%    1543737478.000000      12.000000      17.000000      12.000000   \n",
       "75%    1544827509.000000      18.000000      28.000000      12.000000   \n",
       "max    1545160511.000000      23.000000      30.000000      12.000000   \n",
       "\n",
       "               price       distance surge_multiplier       latitude  \\\n",
       "count  637976.000000  693071.000000    693071.000000  693071.000000   \n",
       "mean       16.545125       2.189430         1.013870      42.338172   \n",
       "std         9.324359       1.138937         0.091641       0.047840   \n",
       "min         2.500000       0.020000         1.000000      42.214800   \n",
       "25%         9.000000       1.280000         1.000000      42.350300   \n",
       "50%        13.500000       2.160000         1.000000      42.351900   \n",
       "75%        22.500000       2.920000         1.000000      42.364700   \n",
       "max        97.500000       7.860000         3.000000      42.366100   \n",
       "\n",
       "           longitude    temperature  ... precipIntensityMax  \\\n",
       "count  693071.000000  693071.000000  ...      693071.000000   \n",
       "mean      -71.066151      39.584388  ...           0.037374   \n",
       "std         0.020302       6.726084  ...           0.055214   \n",
       "min       -71.105400      18.910000  ...           0.000000   \n",
       "25%       -71.081000      36.450000  ...           0.000000   \n",
       "50%       -71.063100      40.490000  ...           0.000400   \n",
       "75%       -71.054200      43.580000  ...           0.091600   \n",
       "max       -71.033000      57.220000  ...           0.145900   \n",
       "\n",
       "             uvIndexTime temperatureMin temperatureMinTime temperatureMax  \\\n",
       "count      693071.000000  693071.000000      693071.000000  693071.000000   \n",
       "mean   1544043966.242997      33.457774  1544041609.570159      45.261313   \n",
       "std        691202.767272       6.467224      690195.441408       5.645046   \n",
       "min    1543161600.000000      15.630000  1543122000.000000      33.510000   \n",
       "25%    1543420800.000000      30.170000  1543399200.000000      42.570000   \n",
       "50%    1543770000.000000      34.240000  1543726800.000000      44.680000   \n",
       "75%    1544806800.000000      38.880000  1544788800.000000      46.910000   \n",
       "max    1545152400.000000      43.100000  1545192000.000000      57.870000   \n",
       "\n",
       "      temperatureMaxTime apparentTemperatureMin apparentTemperatureMinTime  \\\n",
       "count      693071.000000          693071.000000              693071.000000   \n",
       "mean   1544047300.031310              29.731002          1544048034.740452   \n",
       "std        690135.337190               7.110494              687186.191494   \n",
       "min    1543154400.000000              11.810000          1543136400.000000   \n",
       "25%    1543438800.000000              27.760000          1543399200.000000   \n",
       "50%    1543788000.000000              30.130000          1543744800.000000   \n",
       "75%    1544814000.000000              35.710000          1544788800.000000   \n",
       "max    1545109200.000000              40.050000          1545134400.000000   \n",
       "\n",
       "      apparentTemperatureMax apparentTemperatureMaxTime  \n",
       "count          693071.000000              693071.000000  \n",
       "mean               41.997343          1544047993.949826  \n",
       "std                 6.936841              691077.651975  \n",
       "min                28.950000          1543186800.000000  \n",
       "25%                36.570000          1543438800.000000  \n",
       "50%                40.950000          1543788000.000000  \n",
       "75%                44.120000          1544817600.000000  \n",
       "max                57.200000          1545109200.000000  \n",
       "\n",
       "[8 rows x 46 columns]"
      ]
     },
     "execution_count": 6,
     "metadata": {},
     "output_type": "execute_result"
    }
   ],
   "source": [
    "data.describe().apply(lambda s: s.apply(lambda x: format(x, 'f')))"
   ]
  },
  {
   "cell_type": "code",
   "execution_count": 7,
   "metadata": {
    "colab": {
     "base_uri": "https://localhost:8080/"
    },
    "id": "iRHK0iHTBNum",
    "outputId": "94c0b6b6-93f3-4018-a563-de8dfa111a1e"
   },
   "outputs": [
    {
     "name": "stdout",
     "output_type": "stream",
     "text": [
      "<class 'pandas.core.frame.DataFrame'>\n",
      "RangeIndex: 693071 entries, 0 to 693070\n",
      "Data columns (total 57 columns):\n",
      " #   Column                       Non-Null Count   Dtype  \n",
      "---  ------                       --------------   -----  \n",
      " 0   id                           693071 non-null  object \n",
      " 1   timestamp                    693071 non-null  float64\n",
      " 2   hour                         693071 non-null  int64  \n",
      " 3   day                          693071 non-null  int64  \n",
      " 4   month                        693071 non-null  int64  \n",
      " 5   datetime                     693071 non-null  object \n",
      " 6   timezone                     693071 non-null  object \n",
      " 7   source                       693071 non-null  object \n",
      " 8   destination                  693071 non-null  object \n",
      " 9   cab_type                     693071 non-null  object \n",
      " 10  product_id                   693071 non-null  object \n",
      " 11  name                         693071 non-null  object \n",
      " 12  price                        637976 non-null  float64\n",
      " 13  distance                     693071 non-null  float64\n",
      " 14  surge_multiplier             693071 non-null  float64\n",
      " 15  latitude                     693071 non-null  float64\n",
      " 16  longitude                    693071 non-null  float64\n",
      " 17  temperature                  693071 non-null  float64\n",
      " 18  apparentTemperature          693071 non-null  float64\n",
      " 19  short_summary                693071 non-null  object \n",
      " 20  long_summary                 693071 non-null  object \n",
      " 21  precipIntensity              693071 non-null  float64\n",
      " 22  precipProbability            693071 non-null  float64\n",
      " 23  humidity                     693071 non-null  float64\n",
      " 24  windSpeed                    693071 non-null  float64\n",
      " 25  windGust                     693071 non-null  float64\n",
      " 26  windGustTime                 693071 non-null  int64  \n",
      " 27  visibility                   693071 non-null  float64\n",
      " 28  temperatureHigh              693071 non-null  float64\n",
      " 29  temperatureHighTime          693071 non-null  int64  \n",
      " 30  temperatureLow               693071 non-null  float64\n",
      " 31  temperatureLowTime           693071 non-null  int64  \n",
      " 32  apparentTemperatureHigh      693071 non-null  float64\n",
      " 33  apparentTemperatureHighTime  693071 non-null  int64  \n",
      " 34  apparentTemperatureLow       693071 non-null  float64\n",
      " 35  apparentTemperatureLowTime   693071 non-null  int64  \n",
      " 36  icon                         693071 non-null  object \n",
      " 37  dewPoint                     693071 non-null  float64\n",
      " 38  pressure                     693071 non-null  float64\n",
      " 39  windBearing                  693071 non-null  int64  \n",
      " 40  cloudCover                   693071 non-null  float64\n",
      " 41  uvIndex                      693071 non-null  int64  \n",
      " 42  visibility.1                 693071 non-null  float64\n",
      " 43  ozone                        693071 non-null  float64\n",
      " 44  sunriseTime                  693071 non-null  int64  \n",
      " 45  sunsetTime                   693071 non-null  int64  \n",
      " 46  moonPhase                    693071 non-null  float64\n",
      " 47  precipIntensityMax           693071 non-null  float64\n",
      " 48  uvIndexTime                  693071 non-null  int64  \n",
      " 49  temperatureMin               693071 non-null  float64\n",
      " 50  temperatureMinTime           693071 non-null  int64  \n",
      " 51  temperatureMax               693071 non-null  float64\n",
      " 52  temperatureMaxTime           693071 non-null  int64  \n",
      " 53  apparentTemperatureMin       693071 non-null  float64\n",
      " 54  apparentTemperatureMinTime   693071 non-null  int64  \n",
      " 55  apparentTemperatureMax       693071 non-null  float64\n",
      " 56  apparentTemperatureMaxTime   693071 non-null  int64  \n",
      "dtypes: float64(29), int64(17), object(11)\n",
      "memory usage: 301.4+ MB\n"
     ]
    }
   ],
   "source": [
    "data.info()"
   ]
  },
  {
   "cell_type": "markdown",
   "metadata": {
    "id": "8jUz8ZoPDC8-"
   },
   "source": [
    "Only Price column has some missing rows.\n",
    "\n"
   ]
  },
  {
   "cell_type": "code",
   "execution_count": 8,
   "metadata": {
    "colab": {
     "base_uri": "https://localhost:8080/",
     "height": 206
    },
    "id": "On75p25MCb6j",
    "outputId": "32cf2ece-5374-4d9b-d461-aecdd00f8a38"
   },
   "outputs": [
    {
     "data": {
      "text/html": [
       "\n",
       "  <div id=\"df-78ec6def-75c8-4ab6-a353-ee102b609662\">\n",
       "    <div class=\"colab-df-container\">\n",
       "      <div>\n",
       "<style scoped>\n",
       "    .dataframe tbody tr th:only-of-type {\n",
       "        vertical-align: middle;\n",
       "    }\n",
       "\n",
       "    .dataframe tbody tr th {\n",
       "        vertical-align: top;\n",
       "    }\n",
       "\n",
       "    .dataframe thead th {\n",
       "        text-align: right;\n",
       "    }\n",
       "</style>\n",
       "<table border=\"1\" class=\"dataframe\">\n",
       "  <thead>\n",
       "    <tr style=\"text-align: right;\">\n",
       "      <th></th>\n",
       "      <th>total</th>\n",
       "      <th>percent</th>\n",
       "    </tr>\n",
       "  </thead>\n",
       "  <tbody>\n",
       "    <tr>\n",
       "      <th>price</th>\n",
       "      <td>55095</td>\n",
       "      <td>0.079494</td>\n",
       "    </tr>\n",
       "    <tr>\n",
       "      <th>id</th>\n",
       "      <td>0</td>\n",
       "      <td>0.000000</td>\n",
       "    </tr>\n",
       "    <tr>\n",
       "      <th>ozone</th>\n",
       "      <td>0</td>\n",
       "      <td>0.000000</td>\n",
       "    </tr>\n",
       "    <tr>\n",
       "      <th>temperatureLowTime</th>\n",
       "      <td>0</td>\n",
       "      <td>0.000000</td>\n",
       "    </tr>\n",
       "    <tr>\n",
       "      <th>apparentTemperatureHigh</th>\n",
       "      <td>0</td>\n",
       "      <td>0.000000</td>\n",
       "    </tr>\n",
       "  </tbody>\n",
       "</table>\n",
       "</div>\n",
       "      <button class=\"colab-df-convert\" onclick=\"convertToInteractive('df-78ec6def-75c8-4ab6-a353-ee102b609662')\"\n",
       "              title=\"Convert this dataframe to an interactive table.\"\n",
       "              style=\"display:none;\">\n",
       "        \n",
       "  <svg xmlns=\"http://www.w3.org/2000/svg\" height=\"24px\"viewBox=\"0 0 24 24\"\n",
       "       width=\"24px\">\n",
       "    <path d=\"M0 0h24v24H0V0z\" fill=\"none\"/>\n",
       "    <path d=\"M18.56 5.44l.94 2.06.94-2.06 2.06-.94-2.06-.94-.94-2.06-.94 2.06-2.06.94zm-11 1L8.5 8.5l.94-2.06 2.06-.94-2.06-.94L8.5 2.5l-.94 2.06-2.06.94zm10 10l.94 2.06.94-2.06 2.06-.94-2.06-.94-.94-2.06-.94 2.06-2.06.94z\"/><path d=\"M17.41 7.96l-1.37-1.37c-.4-.4-.92-.59-1.43-.59-.52 0-1.04.2-1.43.59L10.3 9.45l-7.72 7.72c-.78.78-.78 2.05 0 2.83L4 21.41c.39.39.9.59 1.41.59.51 0 1.02-.2 1.41-.59l7.78-7.78 2.81-2.81c.8-.78.8-2.07 0-2.86zM5.41 20L4 18.59l7.72-7.72 1.47 1.35L5.41 20z\"/>\n",
       "  </svg>\n",
       "      </button>\n",
       "      \n",
       "  <style>\n",
       "    .colab-df-container {\n",
       "      display:flex;\n",
       "      flex-wrap:wrap;\n",
       "      gap: 12px;\n",
       "    }\n",
       "\n",
       "    .colab-df-convert {\n",
       "      background-color: #E8F0FE;\n",
       "      border: none;\n",
       "      border-radius: 50%;\n",
       "      cursor: pointer;\n",
       "      display: none;\n",
       "      fill: #1967D2;\n",
       "      height: 32px;\n",
       "      padding: 0 0 0 0;\n",
       "      width: 32px;\n",
       "    }\n",
       "\n",
       "    .colab-df-convert:hover {\n",
       "      background-color: #E2EBFA;\n",
       "      box-shadow: 0px 1px 2px rgba(60, 64, 67, 0.3), 0px 1px 3px 1px rgba(60, 64, 67, 0.15);\n",
       "      fill: #174EA6;\n",
       "    }\n",
       "\n",
       "    [theme=dark] .colab-df-convert {\n",
       "      background-color: #3B4455;\n",
       "      fill: #D2E3FC;\n",
       "    }\n",
       "\n",
       "    [theme=dark] .colab-df-convert:hover {\n",
       "      background-color: #434B5C;\n",
       "      box-shadow: 0px 1px 3px 1px rgba(0, 0, 0, 0.15);\n",
       "      filter: drop-shadow(0px 1px 2px rgba(0, 0, 0, 0.3));\n",
       "      fill: #FFFFFF;\n",
       "    }\n",
       "  </style>\n",
       "\n",
       "      <script>\n",
       "        const buttonEl =\n",
       "          document.querySelector('#df-78ec6def-75c8-4ab6-a353-ee102b609662 button.colab-df-convert');\n",
       "        buttonEl.style.display =\n",
       "          google.colab.kernel.accessAllowed ? 'block' : 'none';\n",
       "\n",
       "        async function convertToInteractive(key) {\n",
       "          const element = document.querySelector('#df-78ec6def-75c8-4ab6-a353-ee102b609662');\n",
       "          const dataTable =\n",
       "            await google.colab.kernel.invokeFunction('convertToInteractive',\n",
       "                                                     [key], {});\n",
       "          if (!dataTable) return;\n",
       "\n",
       "          const docLinkHtml = 'Like what you see? Visit the ' +\n",
       "            '<a target=\"_blank\" href=https://colab.research.google.com/notebooks/data_table.ipynb>data table notebook</a>'\n",
       "            + ' to learn more about interactive tables.';\n",
       "          element.innerHTML = '';\n",
       "          dataTable['output_type'] = 'display_data';\n",
       "          await google.colab.output.renderOutput(dataTable, element);\n",
       "          const docLink = document.createElement('div');\n",
       "          docLink.innerHTML = docLinkHtml;\n",
       "          element.appendChild(docLink);\n",
       "        }\n",
       "      </script>\n",
       "    </div>\n",
       "  </div>\n",
       "  "
      ],
      "text/plain": [
       "                         total   percent\n",
       "price                    55095  0.079494\n",
       "id                           0  0.000000\n",
       "ozone                        0  0.000000\n",
       "temperatureLowTime           0  0.000000\n",
       "apparentTemperatureHigh      0  0.000000"
      ]
     },
     "execution_count": 8,
     "metadata": {},
     "output_type": "execute_result"
    }
   ],
   "source": [
    "total = data.isnull().sum().sort_values(ascending=False)\n",
    "percent = (data.isnull().sum()/data.isnull().count()).sort_values(ascending=False)\n",
    "missing_data = pd.concat([total,percent],axis=1,keys=[\"total\",\"percent\"])\n",
    "missing_data.head()"
   ]
  },
  {
   "cell_type": "markdown",
   "metadata": {
    "id": "rj6sowX3HOk6"
   },
   "source": [
    "8% data in price column is missing"
   ]
  },
  {
   "cell_type": "markdown",
   "metadata": {
    "id": "PPf81k2sCVDH"
   },
   "source": [
    "Let's check how many categorical and numerical columns are present in the data."
   ]
  },
  {
   "cell_type": "code",
   "execution_count": 9,
   "metadata": {
    "colab": {
     "base_uri": "https://localhost:8080/"
    },
    "id": "9qleYTovHw2-",
    "outputId": "847b732b-9969-49f8-e63f-9cfde962cdbf"
   },
   "outputs": [
    {
     "data": {
      "text/plain": [
       "46"
      ]
     },
     "execution_count": 9,
     "metadata": {},
     "output_type": "execute_result"
    }
   ],
   "source": [
    "len(data._get_numeric_data().columns)"
   ]
  },
  {
   "cell_type": "markdown",
   "metadata": {
    "id": "CHVGzgROUCuI"
   },
   "source": [
    "**Answer**:\n",
    "We have total 46 columns as numeric data columns. Remaining 11 are categorical columns.\n"
   ]
  },
  {
   "cell_type": "code",
   "execution_count": 10,
   "metadata": {
    "colab": {
     "base_uri": "https://localhost:8080/"
    },
    "id": "lDmXTX5XE9W8",
    "outputId": "2ee5572b-a46e-439a-f77d-5d8c5c2fc4f4"
   },
   "outputs": [
    {
     "name": "stdout",
     "output_type": "stream",
     "text": [
      "Index(['id', 'datetime', 'timezone', 'source', 'destination', 'cab_type',\n",
      "       'product_id', 'name', 'short_summary', 'long_summary', 'icon'],\n",
      "      dtype='object')\n"
     ]
    }
   ],
   "source": [
    "categorical_cols=data.columns[data.dtypes =='object']\n",
    "print(categorical_cols)\n"
   ]
  },
  {
   "cell_type": "markdown",
   "metadata": {
    "id": "3Ohi48w8GhTn"
   },
   "source": [
    "# Data Cleaning and Transformation"
   ]
  },
  {
   "cell_type": "markdown",
   "metadata": {
    "id": "A1NizdLNKqr7"
   },
   "source": [
    "We are removing the columns are as follows:\n",
    "1. Id: Used only for unique records.\n",
    "2. Datetime, Timestamp: As we already have month, day, hour.\n",
    "3. Timezone: Only one timezone so we can remove it.\n",
    "4. Product_id:Removing product_id as we are considering product name.\n",
    "5. Every colum related to weather. Currently not dealing with the weather aspect and hence removing all the related columns.\n",
    "6. longitude and latitude: as we have the destination name"
   ]
  },
  {
   "cell_type": "code",
   "execution_count": 11,
   "metadata": {
    "id": "EKvIyyl5KYHv"
   },
   "outputs": [],
   "source": [
    "data = data.drop(['id', 'datetime', 'timezone', 'timestamp','latitude', 'longitude', 'temperature',\n",
    "       'apparentTemperature', 'short_summary', 'long_summary',\"product_id\",\n",
    "       'precipIntensity', 'precipProbability', 'humidity', 'windSpeed',\n",
    "       'windGust', 'windGustTime', 'visibility', 'temperatureHigh',\n",
    "       'temperatureHighTime', 'temperatureLow', 'temperatureLowTime',\n",
    "       'apparentTemperatureHigh', 'apparentTemperatureHighTime',\n",
    "       'apparentTemperatureLow', 'apparentTemperatureLowTime', 'icon',\n",
    "       'dewPoint', 'pressure', 'windBearing', 'cloudCover', 'uvIndex',\n",
    "       'visibility.1', 'ozone', 'sunriseTime', 'sunsetTime', 'moonPhase',\n",
    "       'precipIntensityMax', 'uvIndexTime', 'temperatureMin',\n",
    "       'temperatureMinTime', 'temperatureMax', 'temperatureMaxTime',\n",
    "       'apparentTemperatureMin', 'apparentTemperatureMinTime',\n",
    "       'apparentTemperatureMax', 'apparentTemperatureMaxTime'], axis=1)\n"
   ]
  },
  {
   "cell_type": "markdown",
   "metadata": {
    "id": "lmPqdPzzpsyM"
   },
   "source": [
    "Imputing the mean value in place of missing values."
   ]
  },
  {
   "cell_type": "code",
   "execution_count": 12,
   "metadata": {
    "colab": {
     "base_uri": "https://localhost:8080/"
    },
    "id": "ENOlQf3BpoKQ",
    "outputId": "7ac649ba-722e-4813-ee6a-f389c033dd01"
   },
   "outputs": [
    {
     "data": {
      "text/plain": [
       "0"
      ]
     },
     "execution_count": 12,
     "metadata": {},
     "output_type": "execute_result"
    }
   ],
   "source": [
    "for j in [\"price\"]:\n",
    "    data.loc[data.loc[:,j].isnull(),j] = data.loc[:,j].mean()\n",
    "data.price.isnull().sum()"
   ]
  },
  {
   "cell_type": "markdown",
   "metadata": {
    "id": "uhcQmI4IGmUc"
   },
   "source": [
    "# Exploratory Data Analysis"
   ]
  },
  {
   "cell_type": "markdown",
   "metadata": {
    "id": "nRvFe0WMA_hE"
   },
   "source": [
    "Let's do some data Exploration via Graph.\n"
   ]
  },
  {
   "cell_type": "markdown",
   "metadata": {
    "id": "LBc3jKEIHeaz"
   },
   "source": [
    "We will plot the pairplots for all the columns in the data. Since the pairplot takes forever to run on the entire dataset. we will only take 2000 samples to plot it. Pairplot includes all the scatter plots and histogram of the columns."
   ]
  },
  {
   "cell_type": "code",
   "execution_count": 13,
   "metadata": {
    "colab": {
     "base_uri": "https://localhost:8080/",
     "height": 0
    },
    "id": "qrUy12AVSemd",
    "outputId": "f90133ec-4bab-41a5-acff-c9c7f3b3b07c"
   },
   "outputs": [
    {
     "data": {
      "image/png": "[encoded data removed]",
      "text/plain": [
       "<Figure size 1139.88x1080 with 42 Axes>"
      ]
     },
     "metadata": {
      "needs_background": "light"
     },
     "output_type": "display_data"
    }
   ],
   "source": [
    "sns_pairplot=sns.pairplot(data.sample(2000), hue=\"cab_type\", markers=[\"o\",\"s\"],diag_kind=\"kde\",kind=\"scatter\",palette=\"husl\")"
   ]
  },
  {
   "cell_type": "markdown",
   "metadata": {
    "id": "uk7zXPngIFVS"
   },
   "source": [
    "Diagonal graphs represent the histogram for every column in the modified dataset."
   ]
  },
  {
   "cell_type": "markdown",
   "metadata": {
    "id": "NYenq3-pSYA3"
   },
   "source": [
    "**Observation**: \n",
    "\n",
    "**Histograms:**\n",
    "Histogram of price, distance and surge_nultiplier column data seems skewed. \n",
    "We need to apply some transformation to make it normally distributed. \n",
    "\n",
    "**Scatter Plot**:\n",
    "By looking at the scatter plots, we can see distance vs price and price vs surge_multiplier seems corealted. We will plot correlation matrix further to extract the exact relationships between attribute and labels."
   ]
  },
  {
   "cell_type": "markdown",
   "metadata": {
    "id": "hkqIMcyNr5t-"
   },
   "source": [
    "Let's plot the boxplots for checking whether there are outliers in the data or not"
   ]
  },
  {
   "cell_type": "code",
   "execution_count": 14,
   "metadata": {
    "colab": {
     "base_uri": "https://localhost:8080/",
     "height": 0
    },
    "id": "BXAMFLz0rUoS",
    "outputId": "0206f892-ce55-4675-c9dd-3ea417404c63"
   },
   "outputs": [
    {
     "data": {
      "image/png": "[encoded data removed]",
      "text/plain": [
       "<Figure size 2160x1440 with 1 Axes>"
      ]
     },
     "metadata": {
      "needs_background": "light"
     },
     "output_type": "display_data"
    }
   ],
   "source": [
    "plt.figure(figsize=(30,20))\n",
    "sns.set_style(\"whitegrid\")\n",
    "sns.boxplot(x=\"hour\", y=\"price\",data=data, hue=\"cab_type\",palette=\"rocket\")\n",
    "plt.xticks(fontsize= 20)\n",
    "plt.yticks(fontsize= 20)\n",
    "plt.xlabel(\"Hour\",fontsize=20)\n",
    "plt.ylabel(\"price_in_log\",fontsize=20)\n",
    "plt.title(\"Boxplot(hours vs price)\",fontsize=25)\n",
    "plt.show()\n"
   ]
  },
  {
   "cell_type": "markdown",
   "metadata": {
    "id": "1TdQyey__MHJ"
   },
   "source": [
    "**Observation**: \n",
    "\n",
    "\n",
    "1.   Price range of lyft is every time higher than uber\n",
    "2.   There are many outliers present in the data. especially in uber.\n",
    "\n"
   ]
  },
  {
   "cell_type": "markdown",
   "metadata": {
    "id": "bOoo09mNNYUP"
   },
   "source": [
    "Let's work on removing the outliers:"
   ]
  },
  {
   "cell_type": "code",
   "execution_count": 15,
   "metadata": {
    "colab": {
     "base_uri": "https://localhost:8080/"
    },
    "id": "8Y3UJ1YONb3p",
    "outputId": "66c92d01-0810-44ea-b658-fc3b3ea57267"
   },
   "outputs": [
    {
     "data": {
      "text/plain": [
       "7982"
      ]
     },
     "execution_count": 15,
     "metadata": {},
     "output_type": "execute_result"
    }
   ],
   "source": [
    "quantiles = stats.mstats.mquantiles(data[\"price\"] , prob=[0.25,0.75])\n",
    "IQR= stats.iqr(data[\"price\"])\n",
    "upper = quantiles[1]+(1.5*IQR)\n",
    "lower = quantiles[0]-(1.5*IQR)\n",
    "data.loc[data[\"price\"]>upper,\"price\"]= np.nan\n",
    "data.loc[data[\"price\"]<lower,\"price\"]= np.nan\n",
    "data.price.isnull().sum()\n"
   ]
  },
  {
   "cell_type": "markdown",
   "metadata": {
    "id": "c22kSLAPUxGx"
   },
   "source": [
    "We can see the 7982 outliers are present in the dataset. We can remove them by imputing mean values."
   ]
  },
  {
   "cell_type": "code",
   "execution_count": 16,
   "metadata": {
    "colab": {
     "base_uri": "https://localhost:8080/"
    },
    "id": "PmHgB5MQUqg1",
    "outputId": "5cc9ea20-4752-4982-ebc8-6d81bd5744af"
   },
   "outputs": [
    {
     "data": {
      "text/plain": [
       "0"
      ]
     },
     "execution_count": 16,
     "metadata": {},
     "output_type": "execute_result"
    }
   ],
   "source": [
    "for i in [\"price\"]:\n",
    "    data.loc[data.loc[:,i].isnull(),i] = data.loc[:,i].mean()\n",
    "data.price.isnull().sum()\n"
   ]
  },
  {
   "cell_type": "markdown",
   "metadata": {
    "id": "iRNXMuqpLZRi"
   },
   "source": [
    "Plotting the PCC for observing the relationaship between columns."
   ]
  },
  {
   "cell_type": "code",
   "execution_count": 17,
   "metadata": {
    "colab": {
     "base_uri": "https://localhost:8080/",
     "height": 0
    },
    "id": "My3_fVo0BQwc",
    "outputId": "6ee8825c-f6af-473d-b6b8-b5e39758bbc6"
   },
   "outputs": [
    {
     "data": {
      "text/plain": [
       "<matplotlib.axes._subplots.AxesSubplot at 0x7f0eda63f8e0>"
      ]
     },
     "execution_count": 17,
     "metadata": {},
     "output_type": "execute_result"
    },
    {
     "data": {
      "image/png": "[encoded data removed]",
      "text/plain": [
       "<Figure size 1440x1080 with 2 Axes>"
      ]
     },
     "metadata": {},
     "output_type": "display_data"
    }
   ],
   "source": [
    "corrmat = data.corr()\n",
    "\n",
    "fig, ax = plt.subplots(figsize=(20,15))\n",
    "title = \"Uber and Lyft Heat Map\"\n",
    "plt.title(title,fontsize=24)\n",
    "ttl = ax.title\n",
    "ttl.set_position([0.5,1.05])\n",
    "mask = np.triu(np.ones_like(corrmat, dtype=bool))\n",
    "sns.heatmap(corrmat,mask=mask,annot=True,cmap='RdYlGn',linewidths=0.20,ax=ax)\n",
    "\n"
   ]
  },
  {
   "cell_type": "markdown",
   "metadata": {
    "id": "xT9kXW-PYeoz"
   },
   "source": [
    "\n",
    "\n",
    "*   Price and surge multiplier highly correlated\n",
    "*   Price and distance is correlated\n",
    "*   Distance and surge-multiplier is not correlated\n",
    "\n",
    "\n",
    "\n",
    "\n"
   ]
  },
  {
   "cell_type": "markdown",
   "metadata": {
    "id": "Nej46UxCMuJB"
   },
   "source": [
    "# Data Preparation"
   ]
  },
  {
   "cell_type": "markdown",
   "metadata": {
    "id": "Pfm5fZEDNIMP"
   },
   "source": [
    "Extracting categorical columns and numerical columns from the updated dataset:"
   ]
  },
  {
   "cell_type": "code",
   "execution_count": 18,
   "metadata": {
    "colab": {
     "base_uri": "https://localhost:8080/"
    },
    "id": "biiSkuIxMRpx",
    "outputId": "56e75136-2747-4c1e-a41d-42b5121f141d"
   },
   "outputs": [
    {
     "name": "stdout",
     "output_type": "stream",
     "text": [
      "Index(['source', 'destination', 'cab_type', 'name'], dtype='object')\n"
     ]
    },
    {
     "data": {
      "text/plain": [
       "4"
      ]
     },
     "execution_count": 18,
     "metadata": {},
     "output_type": "execute_result"
    }
   ],
   "source": [
    "categorical_cols=data.columns[data.dtypes =='object']\n",
    "print(categorical_cols)\n",
    "len(categorical_cols)"
   ]
  },
  {
   "cell_type": "markdown",
   "metadata": {
    "id": "7ltBapDUdVVA"
   },
   "source": [
    "Let's count the unique values in categorical columns"
   ]
  },
  {
   "cell_type": "code",
   "execution_count": 19,
   "metadata": {
    "colab": {
     "base_uri": "https://localhost:8080/"
    },
    "id": "0rmKp5hfdUg_",
    "outputId": "cb626074-0519-4d1c-8faa-9d4001fd29c4"
   },
   "outputs": [
    {
     "name": "stdout",
     "output_type": "stream",
     "text": [
      "Financial District         58857\n",
      "Theatre District           57813\n",
      "Back Bay                   57792\n",
      "Boston University          57764\n",
      "North End                  57763\n",
      "Fenway                     57757\n",
      "Northeastern University    57756\n",
      "South Station              57750\n",
      "Haymarket Square           57736\n",
      "West End                   57562\n",
      "Beacon Hill                57403\n",
      "North Station              57118\n",
      "Name: source, dtype: int64\n",
      "Financial District         58851\n",
      "Theatre District           57798\n",
      "Back Bay                   57780\n",
      "Haymarket Square           57764\n",
      "Boston University          57764\n",
      "Fenway                     57757\n",
      "North End                  57756\n",
      "Northeastern University    57755\n",
      "South Station              57749\n",
      "West End                   57575\n",
      "Beacon Hill                57403\n",
      "North Station              57119\n",
      "Name: destination, dtype: int64\n",
      "Uber    385663\n",
      "Lyft    307408\n",
      "Name: cab_type, dtype: int64\n",
      "UberXL          55096\n",
      "WAV             55096\n",
      "Black SUV       55096\n",
      "Black           55095\n",
      "Taxi            55095\n",
      "UberX           55094\n",
      "UberPool        55091\n",
      "Lux             51235\n",
      "Lyft            51235\n",
      "Lux Black XL    51235\n",
      "Lyft XL         51235\n",
      "Lux Black       51235\n",
      "Shared          51233\n",
      "Name: name, dtype: int64\n"
     ]
    }
   ],
   "source": [
    "for i in categorical_cols:\n",
    "  print(data[i].value_counts())"
   ]
  },
  {
   "cell_type": "code",
   "execution_count": 20,
   "metadata": {
    "colab": {
     "base_uri": "https://localhost:8080/"
    },
    "id": "3-xnZxyyeizv",
    "outputId": "26fe920e-6d8b-4ed7-b7ef-9d8284aa3b7a"
   },
   "outputs": [
    {
     "name": "stdout",
     "output_type": "stream",
     "text": [
      "Index(['hour', 'day', 'month', 'price', 'distance', 'surge_multiplier'], dtype='object')\n"
     ]
    }
   ],
   "source": [
    "numeric_cols=data._get_numeric_data().columns\n",
    "print(numeric_cols)\n"
   ]
  },
  {
   "cell_type": "markdown",
   "metadata": {
    "id": "dRZVtauCNWe2"
   },
   "source": [
    "We need to convert categorical columns into numerical columns by one hot encoding and we will perform statndrad scaling on numeric data.\n"
   ]
  },
  {
   "cell_type": "code",
   "execution_count": 21,
   "metadata": {
    "colab": {
     "base_uri": "https://localhost:8080/"
    },
    "id": "lE5zNOE6gJIF",
    "outputId": "0fa7cf2a-3595-4178-deca-118cba9ca3f1"
   },
   "outputs": [
    {
     "name": "stderr",
     "output_type": "stream",
     "text": [
      "/usr/local/lib/python3.8/dist-packages/sklearn/utils/deprecation.py:87: FutureWarning: Function get_feature_names is deprecated; get_feature_names is deprecated in 1.0 and will be removed in 1.2. Please use get_feature_names_out instead.\n",
      "  warnings.warn(msg, category=FutureWarning)\n"
     ]
    }
   ],
   "source": [
    "ohe=OneHotEncoder()\n",
    "data_encode_col = pd.DataFrame(ohe.fit_transform(data[categorical_cols]).toarray(),columns=[\"encoded_\" + x for x in ohe.get_feature_names(categorical_cols)])\n",
    "data_encode_col.head()\n",
    "data_other_cols = data.drop(columns=categorical_cols)\n",
    "data = pd.concat([data_encode_col, data_other_cols], axis=1)"
   ]
  },
  {
   "cell_type": "code",
   "execution_count": 22,
   "metadata": {
    "colab": {
     "base_uri": "https://localhost:8080/",
     "height": 317
    },
    "id": "lFSsR9VWHa4m",
    "outputId": "26f8c8a7-b4e0-48c1-ba02-01690576563f"
   },
   "outputs": [
    {
     "data": {
      "text/html": [
       "\n",
       "  <div id=\"df-2da13e49-59b6-4696-a1ba-1b20c3fd1dc1\">\n",
       "    <div class=\"colab-df-container\">\n",
       "      <div>\n",
       "<style scoped>\n",
       "    .dataframe tbody tr th:only-of-type {\n",
       "        vertical-align: middle;\n",
       "    }\n",
       "\n",
       "    .dataframe tbody tr th {\n",
       "        vertical-align: top;\n",
       "    }\n",
       "\n",
       "    .dataframe thead th {\n",
       "        text-align: right;\n",
       "    }\n",
       "</style>\n",
       "<table border=\"1\" class=\"dataframe\">\n",
       "  <thead>\n",
       "    <tr style=\"text-align: right;\">\n",
       "      <th></th>\n",
       "      <th>encoded_source_Back Bay</th>\n",
       "      <th>encoded_source_Beacon Hill</th>\n",
       "      <th>encoded_source_Boston University</th>\n",
       "      <th>encoded_source_Fenway</th>\n",
       "      <th>encoded_source_Financial District</th>\n",
       "      <th>encoded_source_Haymarket Square</th>\n",
       "      <th>encoded_source_North End</th>\n",
       "      <th>encoded_source_North Station</th>\n",
       "      <th>encoded_source_Northeastern University</th>\n",
       "      <th>encoded_source_South Station</th>\n",
       "      <th>...</th>\n",
       "      <th>encoded_name_UberPool</th>\n",
       "      <th>encoded_name_UberX</th>\n",
       "      <th>encoded_name_UberXL</th>\n",
       "      <th>encoded_name_WAV</th>\n",
       "      <th>hour</th>\n",
       "      <th>day</th>\n",
       "      <th>month</th>\n",
       "      <th>price</th>\n",
       "      <th>distance</th>\n",
       "      <th>surge_multiplier</th>\n",
       "    </tr>\n",
       "  </thead>\n",
       "  <tbody>\n",
       "    <tr>\n",
       "      <th>0</th>\n",
       "      <td>0.0</td>\n",
       "      <td>0.0</td>\n",
       "      <td>0.0</td>\n",
       "      <td>0.0</td>\n",
       "      <td>0.0</td>\n",
       "      <td>1.0</td>\n",
       "      <td>0.0</td>\n",
       "      <td>0.0</td>\n",
       "      <td>0.0</td>\n",
       "      <td>0.0</td>\n",
       "      <td>...</td>\n",
       "      <td>0.0</td>\n",
       "      <td>0.0</td>\n",
       "      <td>0.0</td>\n",
       "      <td>0.0</td>\n",
       "      <td>9</td>\n",
       "      <td>16</td>\n",
       "      <td>12</td>\n",
       "      <td>5.0</td>\n",
       "      <td>0.44</td>\n",
       "      <td>1.0</td>\n",
       "    </tr>\n",
       "    <tr>\n",
       "      <th>1</th>\n",
       "      <td>0.0</td>\n",
       "      <td>0.0</td>\n",
       "      <td>0.0</td>\n",
       "      <td>0.0</td>\n",
       "      <td>0.0</td>\n",
       "      <td>1.0</td>\n",
       "      <td>0.0</td>\n",
       "      <td>0.0</td>\n",
       "      <td>0.0</td>\n",
       "      <td>0.0</td>\n",
       "      <td>...</td>\n",
       "      <td>0.0</td>\n",
       "      <td>0.0</td>\n",
       "      <td>0.0</td>\n",
       "      <td>0.0</td>\n",
       "      <td>2</td>\n",
       "      <td>27</td>\n",
       "      <td>11</td>\n",
       "      <td>11.0</td>\n",
       "      <td>0.44</td>\n",
       "      <td>1.0</td>\n",
       "    </tr>\n",
       "    <tr>\n",
       "      <th>2</th>\n",
       "      <td>0.0</td>\n",
       "      <td>0.0</td>\n",
       "      <td>0.0</td>\n",
       "      <td>0.0</td>\n",
       "      <td>0.0</td>\n",
       "      <td>1.0</td>\n",
       "      <td>0.0</td>\n",
       "      <td>0.0</td>\n",
       "      <td>0.0</td>\n",
       "      <td>0.0</td>\n",
       "      <td>...</td>\n",
       "      <td>0.0</td>\n",
       "      <td>0.0</td>\n",
       "      <td>0.0</td>\n",
       "      <td>0.0</td>\n",
       "      <td>1</td>\n",
       "      <td>28</td>\n",
       "      <td>11</td>\n",
       "      <td>7.0</td>\n",
       "      <td>0.44</td>\n",
       "      <td>1.0</td>\n",
       "    </tr>\n",
       "    <tr>\n",
       "      <th>3</th>\n",
       "      <td>0.0</td>\n",
       "      <td>0.0</td>\n",
       "      <td>0.0</td>\n",
       "      <td>0.0</td>\n",
       "      <td>0.0</td>\n",
       "      <td>1.0</td>\n",
       "      <td>0.0</td>\n",
       "      <td>0.0</td>\n",
       "      <td>0.0</td>\n",
       "      <td>0.0</td>\n",
       "      <td>...</td>\n",
       "      <td>0.0</td>\n",
       "      <td>0.0</td>\n",
       "      <td>0.0</td>\n",
       "      <td>0.0</td>\n",
       "      <td>4</td>\n",
       "      <td>30</td>\n",
       "      <td>11</td>\n",
       "      <td>26.0</td>\n",
       "      <td>0.44</td>\n",
       "      <td>1.0</td>\n",
       "    </tr>\n",
       "    <tr>\n",
       "      <th>4</th>\n",
       "      <td>0.0</td>\n",
       "      <td>0.0</td>\n",
       "      <td>0.0</td>\n",
       "      <td>0.0</td>\n",
       "      <td>0.0</td>\n",
       "      <td>1.0</td>\n",
       "      <td>0.0</td>\n",
       "      <td>0.0</td>\n",
       "      <td>0.0</td>\n",
       "      <td>0.0</td>\n",
       "      <td>...</td>\n",
       "      <td>0.0</td>\n",
       "      <td>0.0</td>\n",
       "      <td>0.0</td>\n",
       "      <td>0.0</td>\n",
       "      <td>3</td>\n",
       "      <td>29</td>\n",
       "      <td>11</td>\n",
       "      <td>9.0</td>\n",
       "      <td>0.44</td>\n",
       "      <td>1.0</td>\n",
       "    </tr>\n",
       "  </tbody>\n",
       "</table>\n",
       "<p>5 rows × 45 columns</p>\n",
       "</div>\n",
       "      <button class=\"colab-df-convert\" onclick=\"convertToInteractive('df-2da13e49-59b6-4696-a1ba-1b20c3fd1dc1')\"\n",
       "              title=\"Convert this dataframe to an interactive table.\"\n",
       "              style=\"display:none;\">\n",
       "        \n",
       "  <svg xmlns=\"http://www.w3.org/2000/svg\" height=\"24px\"viewBox=\"0 0 24 24\"\n",
       "       width=\"24px\">\n",
       "    <path d=\"M0 0h24v24H0V0z\" fill=\"none\"/>\n",
       "    <path d=\"M18.56 5.44l.94 2.06.94-2.06 2.06-.94-2.06-.94-.94-2.06-.94 2.06-2.06.94zm-11 1L8.5 8.5l.94-2.06 2.06-.94-2.06-.94L8.5 2.5l-.94 2.06-2.06.94zm10 10l.94 2.06.94-2.06 2.06-.94-2.06-.94-.94-2.06-.94 2.06-2.06.94z\"/><path d=\"M17.41 7.96l-1.37-1.37c-.4-.4-.92-.59-1.43-.59-.52 0-1.04.2-1.43.59L10.3 9.45l-7.72 7.72c-.78.78-.78 2.05 0 2.83L4 21.41c.39.39.9.59 1.41.59.51 0 1.02-.2 1.41-.59l7.78-7.78 2.81-2.81c.8-.78.8-2.07 0-2.86zM5.41 20L4 18.59l7.72-7.72 1.47 1.35L5.41 20z\"/>\n",
       "  </svg>\n",
       "      </button>\n",
       "      \n",
       "  <style>\n",
       "    .colab-df-container {\n",
       "      display:flex;\n",
       "      flex-wrap:wrap;\n",
       "      gap: 12px;\n",
       "    }\n",
       "\n",
       "    .colab-df-convert {\n",
       "      background-color: #E8F0FE;\n",
       "      border: none;\n",
       "      border-radius: 50%;\n",
       "      cursor: pointer;\n",
       "      display: none;\n",
       "      fill: #1967D2;\n",
       "      height: 32px;\n",
       "      padding: 0 0 0 0;\n",
       "      width: 32px;\n",
       "    }\n",
       "\n",
       "    .colab-df-convert:hover {\n",
       "      background-color: #E2EBFA;\n",
       "      box-shadow: 0px 1px 2px rgba(60, 64, 67, 0.3), 0px 1px 3px 1px rgba(60, 64, 67, 0.15);\n",
       "      fill: #174EA6;\n",
       "    }\n",
       "\n",
       "    [theme=dark] .colab-df-convert {\n",
       "      background-color: #3B4455;\n",
       "      fill: #D2E3FC;\n",
       "    }\n",
       "\n",
       "    [theme=dark] .colab-df-convert:hover {\n",
       "      background-color: #434B5C;\n",
       "      box-shadow: 0px 1px 3px 1px rgba(0, 0, 0, 0.15);\n",
       "      filter: drop-shadow(0px 1px 2px rgba(0, 0, 0, 0.3));\n",
       "      fill: #FFFFFF;\n",
       "    }\n",
       "  </style>\n",
       "\n",
       "      <script>\n",
       "        const buttonEl =\n",
       "          document.querySelector('#df-2da13e49-59b6-4696-a1ba-1b20c3fd1dc1 button.colab-df-convert');\n",
       "        buttonEl.style.display =\n",
       "          google.colab.kernel.accessAllowed ? 'block' : 'none';\n",
       "\n",
       "        async function convertToInteractive(key) {\n",
       "          const element = document.querySelector('#df-2da13e49-59b6-4696-a1ba-1b20c3fd1dc1');\n",
       "          const dataTable =\n",
       "            await google.colab.kernel.invokeFunction('convertToInteractive',\n",
       "                                                     [key], {});\n",
       "          if (!dataTable) return;\n",
       "\n",
       "          const docLinkHtml = 'Like what you see? Visit the ' +\n",
       "            '<a target=\"_blank\" href=https://colab.research.google.com/notebooks/data_table.ipynb>data table notebook</a>'\n",
       "            + ' to learn more about interactive tables.';\n",
       "          element.innerHTML = '';\n",
       "          dataTable['output_type'] = 'display_data';\n",
       "          await google.colab.output.renderOutput(dataTable, element);\n",
       "          const docLink = document.createElement('div');\n",
       "          docLink.innerHTML = docLinkHtml;\n",
       "          element.appendChild(docLink);\n",
       "        }\n",
       "      </script>\n",
       "    </div>\n",
       "  </div>\n",
       "  "
      ],
      "text/plain": [
       "   encoded_source_Back Bay  encoded_source_Beacon Hill  \\\n",
       "0                      0.0                         0.0   \n",
       "1                      0.0                         0.0   \n",
       "2                      0.0                         0.0   \n",
       "3                      0.0                         0.0   \n",
       "4                      0.0                         0.0   \n",
       "\n",
       "   encoded_source_Boston University  encoded_source_Fenway  \\\n",
       "0                               0.0                    0.0   \n",
       "1                               0.0                    0.0   \n",
       "2                               0.0                    0.0   \n",
       "3                               0.0                    0.0   \n",
       "4                               0.0                    0.0   \n",
       "\n",
       "   encoded_source_Financial District  encoded_source_Haymarket Square  \\\n",
       "0                                0.0                              1.0   \n",
       "1                                0.0                              1.0   \n",
       "2                                0.0                              1.0   \n",
       "3                                0.0                              1.0   \n",
       "4                                0.0                              1.0   \n",
       "\n",
       "   encoded_source_North End  encoded_source_North Station  \\\n",
       "0                       0.0                           0.0   \n",
       "1                       0.0                           0.0   \n",
       "2                       0.0                           0.0   \n",
       "3                       0.0                           0.0   \n",
       "4                       0.0                           0.0   \n",
       "\n",
       "   encoded_source_Northeastern University  encoded_source_South Station  ...  \\\n",
       "0                                     0.0                           0.0  ...   \n",
       "1                                     0.0                           0.0  ...   \n",
       "2                                     0.0                           0.0  ...   \n",
       "3                                     0.0                           0.0  ...   \n",
       "4                                     0.0                           0.0  ...   \n",
       "\n",
       "   encoded_name_UberPool  encoded_name_UberX  encoded_name_UberXL  \\\n",
       "0                    0.0                 0.0                  0.0   \n",
       "1                    0.0                 0.0                  0.0   \n",
       "2                    0.0                 0.0                  0.0   \n",
       "3                    0.0                 0.0                  0.0   \n",
       "4                    0.0                 0.0                  0.0   \n",
       "\n",
       "   encoded_name_WAV  hour  day  month  price  distance  surge_multiplier  \n",
       "0               0.0     9   16     12    5.0      0.44               1.0  \n",
       "1               0.0     2   27     11   11.0      0.44               1.0  \n",
       "2               0.0     1   28     11    7.0      0.44               1.0  \n",
       "3               0.0     4   30     11   26.0      0.44               1.0  \n",
       "4               0.0     3   29     11    9.0      0.44               1.0  \n",
       "\n",
       "[5 rows x 45 columns]"
      ]
     },
     "execution_count": 22,
     "metadata": {},
     "output_type": "execute_result"
    }
   ],
   "source": [
    "data.head()"
   ]
  },
  {
   "cell_type": "code",
   "execution_count": 23,
   "metadata": {
    "id": "idm1OMW2BFra"
   },
   "outputs": [],
   "source": [
    "scaler= StandardScaler()\n",
    "data = pd.DataFrame(scaler.fit_transform(data),columns=data.columns)\n"
   ]
  },
  {
   "cell_type": "code",
   "execution_count": 24,
   "metadata": {
    "colab": {
     "base_uri": "https://localhost:8080/",
     "height": 317
    },
    "id": "S5jbFjzCDdZx",
    "outputId": "f9de4613-4fbf-4912-e730-072a4dcec363"
   },
   "outputs": [
    {
     "data": {
      "text/html": [
       "\n",
       "  <div id=\"df-91cf499c-37b9-4233-b685-01531dcc217c\">\n",
       "    <div class=\"colab-df-container\">\n",
       "      <div>\n",
       "<style scoped>\n",
       "    .dataframe tbody tr th:only-of-type {\n",
       "        vertical-align: middle;\n",
       "    }\n",
       "\n",
       "    .dataframe tbody tr th {\n",
       "        vertical-align: top;\n",
       "    }\n",
       "\n",
       "    .dataframe thead th {\n",
       "        text-align: right;\n",
       "    }\n",
       "</style>\n",
       "<table border=\"1\" class=\"dataframe\">\n",
       "  <thead>\n",
       "    <tr style=\"text-align: right;\">\n",
       "      <th></th>\n",
       "      <th>encoded_source_Back Bay</th>\n",
       "      <th>encoded_source_Beacon Hill</th>\n",
       "      <th>encoded_source_Boston University</th>\n",
       "      <th>encoded_source_Fenway</th>\n",
       "      <th>encoded_source_Financial District</th>\n",
       "      <th>encoded_source_Haymarket Square</th>\n",
       "      <th>encoded_source_North End</th>\n",
       "      <th>encoded_source_North Station</th>\n",
       "      <th>encoded_source_Northeastern University</th>\n",
       "      <th>encoded_source_South Station</th>\n",
       "      <th>...</th>\n",
       "      <th>encoded_name_UberPool</th>\n",
       "      <th>encoded_name_UberX</th>\n",
       "      <th>encoded_name_UberXL</th>\n",
       "      <th>encoded_name_WAV</th>\n",
       "      <th>hour</th>\n",
       "      <th>day</th>\n",
       "      <th>month</th>\n",
       "      <th>price</th>\n",
       "      <th>distance</th>\n",
       "      <th>surge_multiplier</th>\n",
       "    </tr>\n",
       "  </thead>\n",
       "  <tbody>\n",
       "    <tr>\n",
       "      <th>0</th>\n",
       "      <td>-0.301614</td>\n",
       "      <td>-0.300505</td>\n",
       "      <td>-0.301534</td>\n",
       "      <td>-0.301514</td>\n",
       "      <td>-0.304636</td>\n",
       "      <td>3.317249</td>\n",
       "      <td>-0.301532</td>\n",
       "      <td>-0.299691</td>\n",
       "      <td>-0.301512</td>\n",
       "      <td>-0.301494</td>\n",
       "      <td>...</td>\n",
       "      <td>-0.293858</td>\n",
       "      <td>-0.293866</td>\n",
       "      <td>-0.293872</td>\n",
       "      <td>-0.293872</td>\n",
       "      <td>-0.376957</td>\n",
       "      <td>-0.179755</td>\n",
       "      <td>0.839341</td>\n",
       "      <td>-1.357559</td>\n",
       "      <td>-1.536021</td>\n",
       "      <td>-0.151349</td>\n",
       "    </tr>\n",
       "    <tr>\n",
       "      <th>1</th>\n",
       "      <td>-0.301614</td>\n",
       "      <td>-0.300505</td>\n",
       "      <td>-0.301534</td>\n",
       "      <td>-0.301514</td>\n",
       "      <td>-0.304636</td>\n",
       "      <td>3.317249</td>\n",
       "      <td>-0.301532</td>\n",
       "      <td>-0.299691</td>\n",
       "      <td>-0.301512</td>\n",
       "      <td>-0.301494</td>\n",
       "      <td>...</td>\n",
       "      <td>-0.293858</td>\n",
       "      <td>-0.293866</td>\n",
       "      <td>-0.293872</td>\n",
       "      <td>-0.293872</td>\n",
       "      <td>-1.384425</td>\n",
       "      <td>0.922198</td>\n",
       "      <td>-1.191411</td>\n",
       "      <td>-0.628845</td>\n",
       "      <td>-1.536021</td>\n",
       "      <td>-0.151349</td>\n",
       "    </tr>\n",
       "    <tr>\n",
       "      <th>2</th>\n",
       "      <td>-0.301614</td>\n",
       "      <td>-0.300505</td>\n",
       "      <td>-0.301534</td>\n",
       "      <td>-0.301514</td>\n",
       "      <td>-0.304636</td>\n",
       "      <td>3.317249</td>\n",
       "      <td>-0.301532</td>\n",
       "      <td>-0.299691</td>\n",
       "      <td>-0.301512</td>\n",
       "      <td>-0.301494</td>\n",
       "      <td>...</td>\n",
       "      <td>-0.293858</td>\n",
       "      <td>-0.293866</td>\n",
       "      <td>-0.293872</td>\n",
       "      <td>-0.293872</td>\n",
       "      <td>-1.528349</td>\n",
       "      <td>1.022375</td>\n",
       "      <td>-1.191411</td>\n",
       "      <td>-1.114654</td>\n",
       "      <td>-1.536021</td>\n",
       "      <td>-0.151349</td>\n",
       "    </tr>\n",
       "    <tr>\n",
       "      <th>3</th>\n",
       "      <td>-0.301614</td>\n",
       "      <td>-0.300505</td>\n",
       "      <td>-0.301534</td>\n",
       "      <td>-0.301514</td>\n",
       "      <td>-0.304636</td>\n",
       "      <td>3.317249</td>\n",
       "      <td>-0.301532</td>\n",
       "      <td>-0.299691</td>\n",
       "      <td>-0.301512</td>\n",
       "      <td>-0.301494</td>\n",
       "      <td>...</td>\n",
       "      <td>-0.293858</td>\n",
       "      <td>-0.293866</td>\n",
       "      <td>-0.293872</td>\n",
       "      <td>-0.293872</td>\n",
       "      <td>-1.096577</td>\n",
       "      <td>1.222730</td>\n",
       "      <td>-1.191411</td>\n",
       "      <td>1.192938</td>\n",
       "      <td>-1.536021</td>\n",
       "      <td>-0.151349</td>\n",
       "    </tr>\n",
       "    <tr>\n",
       "      <th>4</th>\n",
       "      <td>-0.301614</td>\n",
       "      <td>-0.300505</td>\n",
       "      <td>-0.301534</td>\n",
       "      <td>-0.301514</td>\n",
       "      <td>-0.304636</td>\n",
       "      <td>3.317249</td>\n",
       "      <td>-0.301532</td>\n",
       "      <td>-0.299691</td>\n",
       "      <td>-0.301512</td>\n",
       "      <td>-0.301494</td>\n",
       "      <td>...</td>\n",
       "      <td>-0.293858</td>\n",
       "      <td>-0.293866</td>\n",
       "      <td>-0.293872</td>\n",
       "      <td>-0.293872</td>\n",
       "      <td>-1.240501</td>\n",
       "      <td>1.122553</td>\n",
       "      <td>-1.191411</td>\n",
       "      <td>-0.871750</td>\n",
       "      <td>-1.536021</td>\n",
       "      <td>-0.151349</td>\n",
       "    </tr>\n",
       "  </tbody>\n",
       "</table>\n",
       "<p>5 rows × 45 columns</p>\n",
       "</div>\n",
       "      <button class=\"colab-df-convert\" onclick=\"convertToInteractive('df-91cf499c-37b9-4233-b685-01531dcc217c')\"\n",
       "              title=\"Convert this dataframe to an interactive table.\"\n",
       "              style=\"display:none;\">\n",
       "        \n",
       "  <svg xmlns=\"http://www.w3.org/2000/svg\" height=\"24px\"viewBox=\"0 0 24 24\"\n",
       "       width=\"24px\">\n",
       "    <path d=\"M0 0h24v24H0V0z\" fill=\"none\"/>\n",
       "    <path d=\"M18.56 5.44l.94 2.06.94-2.06 2.06-.94-2.06-.94-.94-2.06-.94 2.06-2.06.94zm-11 1L8.5 8.5l.94-2.06 2.06-.94-2.06-.94L8.5 2.5l-.94 2.06-2.06.94zm10 10l.94 2.06.94-2.06 2.06-.94-2.06-.94-.94-2.06-.94 2.06-2.06.94z\"/><path d=\"M17.41 7.96l-1.37-1.37c-.4-.4-.92-.59-1.43-.59-.52 0-1.04.2-1.43.59L10.3 9.45l-7.72 7.72c-.78.78-.78 2.05 0 2.83L4 21.41c.39.39.9.59 1.41.59.51 0 1.02-.2 1.41-.59l7.78-7.78 2.81-2.81c.8-.78.8-2.07 0-2.86zM5.41 20L4 18.59l7.72-7.72 1.47 1.35L5.41 20z\"/>\n",
       "  </svg>\n",
       "      </button>\n",
       "      \n",
       "  <style>\n",
       "    .colab-df-container {\n",
       "      display:flex;\n",
       "      flex-wrap:wrap;\n",
       "      gap: 12px;\n",
       "    }\n",
       "\n",
       "    .colab-df-convert {\n",
       "      background-color: #E8F0FE;\n",
       "      border: none;\n",
       "      border-radius: 50%;\n",
       "      cursor: pointer;\n",
       "      display: none;\n",
       "      fill: #1967D2;\n",
       "      height: 32px;\n",
       "      padding: 0 0 0 0;\n",
       "      width: 32px;\n",
       "    }\n",
       "\n",
       "    .colab-df-convert:hover {\n",
       "      background-color: #E2EBFA;\n",
       "      box-shadow: 0px 1px 2px rgba(60, 64, 67, 0.3), 0px 1px 3px 1px rgba(60, 64, 67, 0.15);\n",
       "      fill: #174EA6;\n",
       "    }\n",
       "\n",
       "    [theme=dark] .colab-df-convert {\n",
       "      background-color: #3B4455;\n",
       "      fill: #D2E3FC;\n",
       "    }\n",
       "\n",
       "    [theme=dark] .colab-df-convert:hover {\n",
       "      background-color: #434B5C;\n",
       "      box-shadow: 0px 1px 3px 1px rgba(0, 0, 0, 0.15);\n",
       "      filter: drop-shadow(0px 1px 2px rgba(0, 0, 0, 0.3));\n",
       "      fill: #FFFFFF;\n",
       "    }\n",
       "  </style>\n",
       "\n",
       "      <script>\n",
       "        const buttonEl =\n",
       "          document.querySelector('#df-91cf499c-37b9-4233-b685-01531dcc217c button.colab-df-convert');\n",
       "        buttonEl.style.display =\n",
       "          google.colab.kernel.accessAllowed ? 'block' : 'none';\n",
       "\n",
       "        async function convertToInteractive(key) {\n",
       "          const element = document.querySelector('#df-91cf499c-37b9-4233-b685-01531dcc217c');\n",
       "          const dataTable =\n",
       "            await google.colab.kernel.invokeFunction('convertToInteractive',\n",
       "                                                     [key], {});\n",
       "          if (!dataTable) return;\n",
       "\n",
       "          const docLinkHtml = 'Like what you see? Visit the ' +\n",
       "            '<a target=\"_blank\" href=https://colab.research.google.com/notebooks/data_table.ipynb>data table notebook</a>'\n",
       "            + ' to learn more about interactive tables.';\n",
       "          element.innerHTML = '';\n",
       "          dataTable['output_type'] = 'display_data';\n",
       "          await google.colab.output.renderOutput(dataTable, element);\n",
       "          const docLink = document.createElement('div');\n",
       "          docLink.innerHTML = docLinkHtml;\n",
       "          element.appendChild(docLink);\n",
       "        }\n",
       "      </script>\n",
       "    </div>\n",
       "  </div>\n",
       "  "
      ],
      "text/plain": [
       "   encoded_source_Back Bay  encoded_source_Beacon Hill  \\\n",
       "0                -0.301614                   -0.300505   \n",
       "1                -0.301614                   -0.300505   \n",
       "2                -0.301614                   -0.300505   \n",
       "3                -0.301614                   -0.300505   \n",
       "4                -0.301614                   -0.300505   \n",
       "\n",
       "   encoded_source_Boston University  encoded_source_Fenway  \\\n",
       "0                         -0.301534              -0.301514   \n",
       "1                         -0.301534              -0.301514   \n",
       "2                         -0.301534              -0.301514   \n",
       "3                         -0.301534              -0.301514   \n",
       "4                         -0.301534              -0.301514   \n",
       "\n",
       "   encoded_source_Financial District  encoded_source_Haymarket Square  \\\n",
       "0                          -0.304636                         3.317249   \n",
       "1                          -0.304636                         3.317249   \n",
       "2                          -0.304636                         3.317249   \n",
       "3                          -0.304636                         3.317249   \n",
       "4                          -0.304636                         3.317249   \n",
       "\n",
       "   encoded_source_North End  encoded_source_North Station  \\\n",
       "0                 -0.301532                     -0.299691   \n",
       "1                 -0.301532                     -0.299691   \n",
       "2                 -0.301532                     -0.299691   \n",
       "3                 -0.301532                     -0.299691   \n",
       "4                 -0.301532                     -0.299691   \n",
       "\n",
       "   encoded_source_Northeastern University  encoded_source_South Station  ...  \\\n",
       "0                               -0.301512                     -0.301494  ...   \n",
       "1                               -0.301512                     -0.301494  ...   \n",
       "2                               -0.301512                     -0.301494  ...   \n",
       "3                               -0.301512                     -0.301494  ...   \n",
       "4                               -0.301512                     -0.301494  ...   \n",
       "\n",
       "   encoded_name_UberPool  encoded_name_UberX  encoded_name_UberXL  \\\n",
       "0              -0.293858           -0.293866            -0.293872   \n",
       "1              -0.293858           -0.293866            -0.293872   \n",
       "2              -0.293858           -0.293866            -0.293872   \n",
       "3              -0.293858           -0.293866            -0.293872   \n",
       "4              -0.293858           -0.293866            -0.293872   \n",
       "\n",
       "   encoded_name_WAV      hour       day     month     price  distance  \\\n",
       "0         -0.293872 -0.376957 -0.179755  0.839341 -1.357559 -1.536021   \n",
       "1         -0.293872 -1.384425  0.922198 -1.191411 -0.628845 -1.536021   \n",
       "2         -0.293872 -1.528349  1.022375 -1.191411 -1.114654 -1.536021   \n",
       "3         -0.293872 -1.096577  1.222730 -1.191411  1.192938 -1.536021   \n",
       "4         -0.293872 -1.240501  1.122553 -1.191411 -0.871750 -1.536021   \n",
       "\n",
       "   surge_multiplier  \n",
       "0         -0.151349  \n",
       "1         -0.151349  \n",
       "2         -0.151349  \n",
       "3         -0.151349  \n",
       "4         -0.151349  \n",
       "\n",
       "[5 rows x 45 columns]"
      ]
     },
     "execution_count": 24,
     "metadata": {},
     "output_type": "execute_result"
    }
   ],
   "source": [
    "data.head()"
   ]
  },
  {
   "cell_type": "code",
   "execution_count": 25,
   "metadata": {
    "colab": {
     "base_uri": "https://localhost:8080/"
    },
    "id": "L25yuvcdD22o",
    "outputId": "2d43f631-abdb-49c3-abf5-02435543c696"
   },
   "outputs": [
    {
     "data": {
      "text/plain": [
       "(693071, 45)"
      ]
     },
     "execution_count": 25,
     "metadata": {},
     "output_type": "execute_result"
    }
   ],
   "source": [
    "data.shape"
   ]
  },
  {
   "cell_type": "markdown",
   "metadata": {
    "id": "rKaZZ4JjEKSd"
   },
   "source": [
    "# Model Training"
   ]
  },
  {
   "cell_type": "code",
   "execution_count": 26,
   "metadata": {
    "colab": {
     "base_uri": "https://localhost:8080/"
    },
    "id": "uAz3o1w2ENO5",
    "outputId": "dde486b7-7250-4b36-d8c9-ac76156833b4"
   },
   "outputs": [
    {
     "name": "stdout",
     "output_type": "stream",
     "text": [
      "Training set shape: (554456, 44) (554456, 1)\n",
      "Testing set shape: (138615, 44) (138615, 1)\n",
      "Training set mean: -2.124310478650521e-05 -0.00032480055681517354\n",
      "Testing set mean: 8.497180613571272e-05 0.0012991928545252468\n",
      "Training set standard deviation: 0.9999617016235108 0.9990762967096172\n",
      "Testing set standard deviation: 1.0001531732236146 1.0036852346455714\n"
     ]
    }
   ],
   "source": [
    "data.dropna(inplace = True)\n",
    "X=data.drop(['price'],axis=1)\n",
    "y=data['price']\n",
    "\n",
    "instances = X.shape[0]\n",
    "features = X.shape[1]\n",
    "\n",
    "# Converting each dataframe into a numpy array since each dataframe contains only one column\n",
    "X = np.array(X).reshape(-1, features)\n",
    "y = np.array(y).reshape(-1, 1)\n",
    "\n",
    "identity_vector = np.asarray([[1 for num in range(instances)]])\n",
    "identity_vector = identity_vector.reshape(-1,1)\n",
    "X_train, X_test, y_train, y_test = train_test_split(X,y,train_size=0.8,test_size=0.2,random_state=40)\n",
    "# print(X_train, X_test, y_train)\n",
    "print(\"Training set shape:\", X_train.shape, y_train.shape)\n",
    "print(\"Testing set shape:\", X_test.shape, y_test.shape)\n",
    "print(\"Training set mean:\", X_train.mean(), y_train.mean())\n",
    "print(\"Testing set mean:\", X_test.mean(), y_test.mean())\n",
    "print(\"Training set standard deviation:\", X_train.std(), y_train.std())\n",
    "print(\"Testing set standard deviation:\", X_test.std(), y_test.std())"
   ]
  },
  {
   "cell_type": "markdown",
   "metadata": {
    "id": "qa-uwpJUIgl6"
   },
   "source": [
    "Helper function required for model training and evalution:\n"
   ]
  },
  {
   "cell_type": "code",
   "execution_count": 44,
   "metadata": {
    "id": "r0EKRiBkIfWl"
   },
   "outputs": [],
   "source": [
    "def evaluate_model(test,pred):\n",
    "    #print(test,pred)\n",
    "    print(\"R^2:\", r2_score(test, pred))\n",
    "    print(\"MAE:\", mean_absolute_error(test,pred))\n",
    "    print(\"RMSE:\",np.sqrt(mean_squared_error(test, pred)))\n",
    "    print(\"\")\n",
    "    \n",
    "def create_mini_batches(X, y, batch_size):\n",
    "    mini_batches = []\n",
    "    data = np.hstack((X, y))\n",
    "    np.random.shuffle(data)\n",
    "    n_minibatches = data.shape[0] // batch_size\n",
    "    i = 0\n",
    " \n",
    "    for i in range(n_minibatches + 1):\n",
    "        mini_batch = data[i * batch_size:(i + 1)*batch_size, :]\n",
    "        X_mini = mini_batch[:, :-1]\n",
    "        Y_mini = mini_batch[:, -1].reshape((-1, 1))\n",
    "        mini_batches.append((X_mini, Y_mini))\n",
    "    if data.shape[0] % batch_size != 0:\n",
    "        mini_batch = data[i * batch_size:data.shape[0]]\n",
    "        X_mini = mini_batch[:, :-1]\n",
    "        Y_mini = mini_batch[:, -1].reshape((-1, 1))\n",
    "        mini_batches.append((X_mini, Y_mini))\n",
    "    return mini_batches\n",
    "\n",
    "def perform_lr(X_train,X_test,train_y, test_y):\n",
    "    #X_train = np.append(X_train,identity_vector[:X_train.shape[0],:],1)\n",
    "    #X_test = np.append(X_test,identity_vector[:X_test.shape[0],:],1)\n",
    "    lr = LinearRegression()\n",
    "    lr.fit(X_train,train_y)\n",
    "    y_val_pred = lr.predict(X_test)\n",
    "    y_train_pred = lr.predict(X_train)\n",
    "\n",
    "    print('Shape:',X_train.shape)\n",
    "    print('Rank:',np.linalg.matrix_rank(X_train))\n",
    "    print('coeff:',lr.coef_)\n",
    "    #Test linear regression model \n",
    "    print(\"Training Loss\")\n",
    "    evaluate_model(train_y,y_train_pred)\n",
    "    print(\"Validation Loss\")\n",
    "    evaluate_model(test_y,y_val_pred)\n",
    "\n",
    "    \n",
    "def perform_sgd(X_train,train_y, X_test, test_y,alpha=0.0001, epsilon=0.1, eta0=0.01,penalty=None,learning_rate='invscaling',batchsize=1):\n",
    "    print(\"penalty term:\",penalty,\",learning rate:\",learning_rate,\",batch size:\",batchsize)\n",
    "#     print(train_y)\n",
    "    X_train = np.append(X_train,identity_vector[:X_train.shape[0],:],1)\n",
    "    X_test = np.append(X_test,identity_vector[:X_test.shape[0],:],1)\n",
    "#     print(X_train.shape)\n",
    "#     print('Rank:',np.linalg.matrix_rank(X_train))\n",
    "    model = SGDRegressor(alpha=alpha, epsilon=epsilon, eta0=eta0,penalty=penalty, learning_rate=learning_rate)\n",
    "    if batchsize > 1:\n",
    "        batcherator = create_mini_batches(X_train, train_y,batch_size=batchsize)\n",
    "        for X_chunk, y_chunk in batcherator:\n",
    "            y_chunk = y_chunk.squeeze(1)\n",
    "            model.partial_fit(X_chunk, y_chunk)\n",
    "    else:\n",
    "        train_y = train_y.squeeze(1)\n",
    "        model.fit(X_train, train_y)\n",
    "        \n",
    "    y_val_predicted = model.predict(X_test)\n",
    "    print(\"validation loss\")\n",
    "    evaluate_model(test_y,y_val_predicted)\n",
    "\n",
    "    y_train_predicted = model.predict(X_train)\n",
    "    print(\"training loss\")\n",
    "    evaluate_model(train_y,y_train_predicted)\n",
    "\n",
    "\n",
    "\n",
    "def perform_pr(X_train,X_test,train_y,test_y):\n",
    "    p = preprocessing.PolynomialFeatures(degree=2)\n",
    "    X_train_poly = p.fit_transform(X_train)\n",
    "    X_test_poly = p.fit_transform(X_test)\n",
    "    X_train_poly = np.append(X_train,identity_vector[:X_train.shape[0],:],1)\n",
    "    X_test_poly = np.append(X_test,identity_vector[:X_test.shape[0],:],1)\n",
    "    pr = LinearRegression()\n",
    "    pr.fit(X_train_poly,train_y)\n",
    "    y_val_pred = pr.predict(X_test_poly)\n",
    "    #Test plynomial regression model \n",
    "    print(\"validation loss\") \n",
    "    evaluate_model(test_y,y_val_pred)\n",
    "\n",
    "\n",
    "    \n",
    "def add_poly(X_train,X_test):\n",
    "    p = preprocessing.PolynomialFeatures(degree=2)\n",
    "    X_train_poly = p.fit_transform(X_train[:,:7])\n",
    "    X_test_poly = p.fit_transform(X_test[:,:7])\n",
    "    X_train_poly = StandardScaler().fit_transform(X_train_poly)\n",
    "    X_test_poly = StandardScaler().fit_transform(X_test_poly)\n",
    "#     print(X_train_poly.shape,X_train[:,8:].shape)\n",
    "    X_train_poly = np.append(X_train_poly,X_train[:,8:],1)\n",
    "    X_test_poly = np.append(X_test_poly,X_test[:,8:],1)\n",
    "    return X_train_poly,X_test_poly\n",
    "    \n",
    "def perform_ridge(X_train,train_y,X_test,test_y,alpha=0.5):\n",
    "    rdg = Ridge(alpha = alpha)\n",
    "    print(\"alpha:\",alpha)\n",
    "    rdg.fit(X_train, train_y)\n",
    "    pred_test_rr= rdg.predict(X_test)\n",
    "    print(\"Validation loss\")\n",
    "    evaluate_model(test_y,pred_test_rr)\n",
    "    y_train_predicted = rdg.predict(X_train)\n",
    "    print(\"training loss\")\n",
    "    evaluate_model(train_y,y_train_predicted)\n",
    "\n",
    "    \n",
    "def perform_l(X_train,y_train,X_test,test_y,alpha=0.1):\n",
    "    model_lasso = Lasso(alpha=alpha)\n",
    "    model_lasso.fit(X_train, y_train) \n",
    "    pred_train_lasso= model_lasso.predict(X_test)\n",
    "    print(\"alpha:\",alpha)\n",
    "    print(\"validation loss\")\n",
    "    evaluate_model(test_y,pred_train_lasso)\n",
    "    y_train_predicted = model_lasso.predict(X_train)\n",
    "    print(\"training loss\")\n",
    "    evaluate_model(y_train,y_train_predicted)\n",
    "\n",
    "\n",
    "    \n",
    "def perform_en(X_train, y_train,X_test,test_y,alpha=0.1,l1=0.5):\n",
    "    model = ElasticNet(alpha=alpha,l1_ratio=l1)\n",
    "    model.fit(X_train, y_train) \n",
    "    pred_test = model.predict(X_test)\n",
    "    print(\"alpha:\",alpha,\",l1 ratio:\",l1)\n",
    "    print(\"validation loss\")\n",
    "    evaluate_model(test_y,pred_test)\n",
    "    pred_train = model.predict(X_train)\n",
    "\n",
    "    print(\"alpha:\",alpha,\",l1 ratio:\",l1)\n",
    "    print(\"training loss\")\n",
    "    evaluate_model(y_train,pred_train)\n",
    "\n",
    "\n",
    "\n",
    "    \n",
    "def k_fold_closed(X_train,y_train):\n",
    "    model = Ridge(alpha=0.000000000000000000000000000000001)\n",
    "#     model = LinearRegression()\n",
    "    pipeline = Pipeline([('transformer', StandardScaler()), ('estimator', model)])\n",
    "#     pipeline = Pipeline([('transformer', StandardScaler()), ('model', TransformedTargetRegressor(regressor=model,transformer=StandardScaler()))])\n",
    "\n",
    "    \n",
    "    cv = KFold(n_splits=4, random_state=20, shuffle=True)\n",
    "    \n",
    "    print('Rank:',np.linalg.matrix_rank(X_train))\n",
    "#     X_train = np.append(X_train,identity_vector[:X_train.shape[0],:],1)\n",
    "    print('Rank:',np.linalg.matrix_rank(X_train))\n",
    "    print('Shape:',X_train.shape)\n",
    "#     X_train = StandardScaler().fit_transform(X_train)\n",
    "    scores = cross_val_score(model, X_train, y_train, scoring='neg_mean_absolute_error',\n",
    "                             cv=cv, n_jobs=-1)\n",
    "    print(X_train)\n",
    "    print(scores)\n",
    "    #view RMSE\n",
    "    return sqrt(mean(absolute(scores)))\n",
    "    \n",
    "def k_fold_sgd(X_train,train_y):\n",
    "    cv = KFold(n_splits=4, random_state=1, shuffle=True)\n",
    "    model = SGDRegressor()\n",
    "    sgd_x = StandardScaler().fit_transform(X_train)\n",
    "    sgd_y = train_y.squeeze(1)\n",
    "    sgd_x = np.append(sgd_x,identity_vector[:sgd_x.shape[0],:],1)\n",
    "    scores = cross_val_score(model, sgd_x, sgd_y, scoring='neg_mean_absolute_error',\n",
    "                             cv=cv, n_jobs=-1)\n",
    "    print(scores)\n",
    "    #view RMSE\n",
    "    return sqrt(mean(absolute(scores)))\n",
    "    "
   ]
  },
  {
   "cell_type": "code",
   "execution_count": 28,
   "metadata": {
    "colab": {
     "base_uri": "https://localhost:8080/"
    },
    "id": "oheJL_TAIqeT",
    "outputId": "13ee0f30-f996-40c6-f643-76fb4f668919"
   },
   "outputs": [
    {
     "name": "stdout",
     "output_type": "stream",
     "text": [
      "Shape: (554456, 44)\n",
      "Rank: 38\n",
      "coeff: [[-5.84037534e+11 -5.82246808e+11 -2.97862401e+11 -2.97845993e+11\n",
      "  -5.88900089e+11 -2.97796763e+11 -2.97860057e+11 -5.80929797e+11\n",
      "  -2.97843649e+11 -2.97829585e+11 -5.84133981e+11 -5.82979706e+11\n",
      "  -3.69737656e+11 -3.68638791e+11 -8.36446139e+10 -8.36400063e+10\n",
      "  -3.72833951e+11 -8.36446139e+10 -8.36393481e+10 -3.67807880e+11\n",
      "  -8.36386898e+10 -8.36347402e+10 -3.69790004e+11 -3.69140713e+11\n",
      "   6.46350864e+12 -2.00395627e+12  1.81939588e+12  1.81941096e+12\n",
      "  -2.69970683e+12 -2.69970683e+12 -2.69970683e+12 -2.69970683e+12\n",
      "  -2.69970683e+12 -2.69965834e+12  1.81939588e+12  1.81933553e+12\n",
      "   1.81938079e+12  1.81941096e+12  1.81941096e+12  5.38825989e-05\n",
      "  -2.54249573e-03 -5.00798225e-04  2.90130615e-01  5.83801270e-02]]\n",
      "Training Loss\n",
      "R^2: 0.8617481653387474\n",
      "MAE: 0.2333115486651984\n",
      "RMSE: 0.3714788624839923\n",
      "\n",
      "Validation Loss\n",
      "R^2: 0.8618734465803293\n",
      "MAE: 0.23472431802629343\n",
      "RMSE: 0.3730234400548633\n",
      "\n"
     ]
    }
   ],
   "source": [
    "#Train model using linear regression(closed form)\n",
    "perform_lr(X_train,X_test,y_train, y_test)"
   ]
  },
  {
   "cell_type": "markdown",
   "metadata": {
    "id": "S8TGVznb91H-"
   },
   "source": [
    "**Observation** (Linear regression closed form): There is not much difference between training and validation loss. This indicates that model is performing reasonably well. It's not underfitting or overfitting with dataset."
   ]
  },
  {
   "cell_type": "code",
   "execution_count": 29,
   "metadata": {
    "colab": {
     "base_uri": "https://localhost:8080/"
    },
    "id": "RTjWcswqKa_W",
    "outputId": "e3f146fa-cabe-4992-ea1c-fcea377bd2c9"
   },
   "outputs": [
    {
     "name": "stdout",
     "output_type": "stream",
     "text": [
      "penalty term: elasticnet ,learning rate: constant ,batch size: 5\n",
      "validation loss\n",
      "R^2: 0.8199889146193468\n",
      "MAE: 0.2759818072087603\n",
      "RMSE: 0.4258406935461399\n",
      "\n",
      "training loss\n",
      "R^2: 0.8183073738057717\n",
      "MAE: 0.27507562255446455\n",
      "RMSE: 0.42586044787713556\n",
      "\n",
      "penalty term: l1 ,learning rate: optimal ,batch size: 10\n",
      "validation loss\n",
      "R^2: 0.4183782745647113\n",
      "MAE: 0.5263559576165668\n",
      "RMSE: 0.7654517943540259\n",
      "\n",
      "training loss\n",
      "R^2: 0.4190991067482809\n",
      "MAE: 0.5232827163966731\n",
      "RMSE: 0.7614645288912191\n",
      "\n",
      "penalty term: l2 ,learning rate: adaptive ,batch size: 100\n",
      "validation loss\n",
      "R^2: 0.8198470143059364\n",
      "MAE: 0.28721062021630966\n",
      "RMSE: 0.4260085027230229\n",
      "\n",
      "training loss\n",
      "R^2: 0.8193462119610894\n",
      "MAE: 0.2861219815800056\n",
      "RMSE: 0.42464126175028705\n",
      "\n",
      "penalty term: l2 ,learning rate: invscaling ,batch size: 50\n",
      "validation loss\n",
      "R^2: 0.8611218322925468\n",
      "MAE: 0.23665682134870697\n",
      "RMSE: 0.374036964852156\n",
      "\n",
      "training loss\n",
      "R^2: 0.8609277776186577\n",
      "MAE: 0.23536909245435642\n",
      "RMSE: 0.37257941180746323\n",
      "\n",
      "penalty term: None ,learning rate: invscaling ,batch size: 1\n",
      "validation loss\n",
      "R^2: 0.8613417809662796\n",
      "MAE: 0.23694241174797143\n",
      "RMSE: 0.37374065645848853\n",
      "\n",
      "training loss\n",
      "R^2: 0.8612751245309458\n",
      "MAE: 0.23540837302929465\n",
      "RMSE: 0.37211384358165556\n",
      "\n"
     ]
    }
   ],
   "source": [
    "perform_sgd(X_train,y_train, X_test, y_test,penalty='elasticnet',learning_rate='constant',batchsize=5)\n",
    "perform_sgd(X_train,y_train, X_test, y_test,penalty='l1',learning_rate='optimal',batchsize=10)\n",
    "perform_sgd(X_train,y_train, X_test, y_test,penalty='l2',learning_rate='adaptive',batchsize=100)\n",
    "perform_sgd(X_train,y_train, X_test, y_test,penalty='l2',learning_rate='invscaling',batchsize=50)\n",
    "perform_sgd(X_train,y_train, X_test, y_test)"
   ]
  },
  {
   "cell_type": "markdown",
   "metadata": {
    "id": "MM2HkuoO_JIt"
   },
   "source": [
    "**Observation** (Linear regression SGD):\n",
    "Stocastic Gredient descent (SGD) method is observed with different learning rate and batch sizes:\n",
    "\n",
    "1. Constant learning Rate and elasticnet penalty with batch size 5: Constant learning rate is giving almost 0.43 rmse which is more than closed form solution. We can definitely improve it with optimum hyperparameter tuning.\n",
    "\n",
    "\n",
    "2. Optimal learning rate and l1 penalty with batch size 10: Looking at the evaluation metrics seems like model is slightly overfitting than other combinations of hyperparameter.Optimal learning rate is not suitable for the dataset with small batch size. A high learning rate can cause the model to converge too quickly and overshoot the optimal parameters, leading to overfitting. Penalty l1 is not really helping here to prevent the overfitting\n",
    "\n",
    "\n",
    "3. penalty term l2 ,learning rate adaptive ,batch size 100: The RMSE value of 0.45 suggests that, on average, the model's predictions are off by around 0.45 units of the target variable. The R-squared value of 0.79 indicates that the model fits the data poorly and is not able to explain much of the variance in the target variable. \n",
    "\n",
    "4. penalty term l2 ,learning rate invscaling ,batch size 50 : invscaling learning rate is actually suitable for this dataset because it helps to prevent overshooting the optimal parameters in the early stage of training. Batch size 50 is not small but optimal for this dataset. l2 regression is helping more to prevent the overfitting of the dataset. Although, Reducing batch size will reduce rmse more and gives the better result.\n",
    "\n",
    "\n",
    "5. penalty term None ,learning rate invscaling ,batch size 1 : With invscaling learning rate and smaller batch size these parameters gives best results. \n",
    "\n",
    "\n",
    "linear regression closed form solution is performing almost similar like SGD linear regression.\n"
   ]
  },
  {
   "cell_type": "code",
   "execution_count": 45,
   "metadata": {
    "colab": {
     "base_uri": "https://localhost:8080/"
    },
    "id": "DlMbNcD0NfAe",
    "outputId": "dec2e19e-52e6-465e-e8ea-cdef7f2b58e7"
   },
   "outputs": [
    {
     "name": "stdout",
     "output_type": "stream",
     "text": [
      "validation loss\n",
      "R^2: 0.8618734465803293\n",
      "MAE: 0.23472431802629343\n",
      "RMSE: 0.3730234400548633\n",
      "\n"
     ]
    }
   ],
   "source": [
    "#Train model using polynomial regression(Closed form)\n",
    "\n",
    "perform_pr(X_train,X_test, y_train,y_test)"
   ]
  },
  {
   "cell_type": "markdown",
   "metadata": {
    "id": "R2jse2MUCk0G"
   },
   "source": [
    "**Observation** (Polynomial Regression closed form):\n",
    "Polynomial regression performing similar results as linear regression which indicates that there is not non-linear relationship in the data between labels and attributes."
   ]
  },
  {
   "cell_type": "code",
   "execution_count": 31,
   "metadata": {
    "colab": {
     "base_uri": "https://localhost:8080/"
    },
    "id": "5nkoJ88vNlMd",
    "outputId": "903ff9b4-ffcb-4248-e148-254375bc828d"
   },
   "outputs": [
    {
     "name": "stdout",
     "output_type": "stream",
     "text": [
      "penalty term: elasticnet ,learning rate: constant ,batch size: 5\n",
      "validation loss\n",
      "R^2: 0.7529718235629365\n",
      "MAE: 0.34426288279339246\n",
      "RMSE: 0.49885092452950097\n",
      "\n",
      "training loss\n",
      "R^2: 0.7519775572378036\n",
      "MAE: 0.3434505955878878\n",
      "RMSE: 0.4975584951429283\n",
      "\n",
      "penalty term: l1 ,learning rate: optimal ,batch size: 10\n",
      "validation loss\n",
      "R^2: 0.44149617440093747\n",
      "MAE: 0.5974101519594691\n",
      "RMSE: 0.7500852257641194\n",
      "\n",
      "training loss\n",
      "R^2: 0.4383499725019444\n",
      "MAE: 0.5960415040247149\n",
      "RMSE: 0.7487408835882867\n",
      "\n",
      "penalty term: l2 ,learning rate: adaptive ,batch size: 100\n",
      "validation loss\n",
      "R^2: 0.7166243163569255\n",
      "MAE: 0.37059222362141403\n",
      "RMSE: 0.534292189657923\n",
      "\n",
      "training loss\n",
      "R^2: 0.7155542041258195\n",
      "MAE: 0.36870046826596714\n",
      "RMSE: 0.5328419573720365\n",
      "\n",
      "penalty term: None ,learning rate: invscaling ,batch size: 1\n",
      "validation loss\n",
      "R^2: 0.8600985739952701\n",
      "MAE: 0.2348067862756657\n",
      "RMSE: 0.3754123934605395\n",
      "\n",
      "training loss\n",
      "R^2: 0.8599459532809735\n",
      "MAE: 0.23347162197104157\n",
      "RMSE: 0.37389226984447904\n",
      "\n"
     ]
    }
   ],
   "source": [
    "#Train model using polynomial regression(SGD)\n",
    "\n",
    "#Add polynomial features\n",
    "X_train_poly,X_test_poly = add_poly(X_train,X_test)\n",
    "\n",
    "perform_sgd(X_train_poly,y_train, X_test_poly, y_test,penalty='elasticnet',learning_rate='constant',batchsize=5)\n",
    "perform_sgd(X_train_poly,y_train, X_test_poly, y_test,penalty='l1',learning_rate='optimal',batchsize=10)\n",
    "perform_sgd(X_train_poly,y_train, X_test_poly, y_test,penalty='l2',learning_rate='adaptive',batchsize=100)\n",
    "perform_sgd(X_train_poly,y_train, X_test_poly, y_test)\n"
   ]
  },
  {
   "cell_type": "markdown",
   "metadata": {
    "id": "5KdDvfLEFJdL"
   },
   "source": [
    "**Observation** (polynomial regression SGD):\n",
    "Polynomial regression is performing similar way as linear regression. Seems like there no non-linear relationship between labels and attributes. \n",
    "\n",
    "In case of polynomial regression, only invscaling learning rate and smallest batch size produces best results. Any other batch size more than 1 and learning rate like constant , optimal and adaptive is making the model overfitting to this dataset"
   ]
  },
  {
   "cell_type": "code",
   "execution_count": 32,
   "metadata": {
    "colab": {
     "base_uri": "https://localhost:8080/"
    },
    "id": "Z7oYj6IWN7Vq",
    "outputId": "cca4b748-cbff-4a91-c499-98db6c9e074b"
   },
   "outputs": [
    {
     "name": "stdout",
     "output_type": "stream",
     "text": [
      "Rank: 38\n",
      "Rank: 38\n",
      "Shape: (554456, 44)\n",
      "[[-0.30161408 -0.30050529 -0.30153436 ...  0.83934123 -0.46484585\n",
      "  -0.15134887]\n",
      " [ 3.31549508 -0.30050529 -0.30153436 ...  0.83934123 -0.42094524\n",
      "  -0.15134887]\n",
      " [-0.30161408 -0.30050529 -0.30153436 ...  0.83934123 -0.95653276\n",
      "  -0.15134887]\n",
      " ...\n",
      " [-0.30161408 -0.30050529 -0.30153436 ... -1.19141056 -0.90385202\n",
      "  -0.15134887]\n",
      " [-0.30161408 -0.30050529 -0.30153436 ... -1.19141056 -0.39460487\n",
      "  -0.15134887]\n",
      " [-0.30161408 -0.30050529 -0.30153436 ...  0.83934123 -0.01705956\n",
      "  -0.15134887]]\n",
      "[-0.23321071 -0.23446888 -0.23373629 -0.23450121]\n"
     ]
    },
    {
     "data": {
      "text/plain": [
       "0.48371404086211867"
      ]
     },
     "execution_count": 32,
     "metadata": {},
     "output_type": "execute_result"
    }
   ],
   "source": [
    "#Implement k fold with closed form using linear regression model\n",
    "k_fold_closed(X_train, y_train)"
   ]
  },
  {
   "cell_type": "code",
   "execution_count": 33,
   "metadata": {
    "colab": {
     "base_uri": "https://localhost:8080/"
    },
    "id": "mg9QY-YxQDNs",
    "outputId": "12afd122-1875-4e88-9ac4-1728c611dca4"
   },
   "outputs": [
    {
     "name": "stdout",
     "output_type": "stream",
     "text": [
      "[-0.23707516 -0.23135749 -0.23447338 -0.23431048]\n"
     ]
    },
    {
     "data": {
      "text/plain": [
       "0.4840497184252309"
      ]
     },
     "execution_count": 33,
     "metadata": {},
     "output_type": "execute_result"
    }
   ],
   "source": [
    "#Implement k fold with sgd using linear regression model\n",
    "k_fold_sgd(X_train,y_train)"
   ]
  },
  {
   "cell_type": "markdown",
   "metadata": {
    "id": "yMnOuUp1GGO1"
   },
   "source": [
    "**Observation** (K-fold linear regression):\n",
    "K-fold cross-validation with SGD is a more robust approach to evaluating the performance of a linear regression model than *a* standard linear regression model, but it can also increase the variance of the estimated performance, leading to a higher RMSE. In our case there is a large variation in the performance of the model across the folds. And hence k-fold rmse is higher than standard linear regression model rmse.\n"
   ]
  },
  {
   "cell_type": "code",
   "execution_count": 34,
   "metadata": {
    "colab": {
     "base_uri": "https://localhost:8080/"
    },
    "id": "Mwr10oP2N9wM",
    "outputId": "52dfe5c6-ccde-4148-da7d-1e38cffa46c3"
   },
   "outputs": [
    {
     "name": "stdout",
     "output_type": "stream",
     "text": [
      "Rank: 39\n",
      "Rank: 39\n",
      "Shape: (554456, 72)\n",
      "[[ 0.         -0.30203546 -0.3007894  ...  0.83934123 -0.46484585\n",
      "  -0.15134887]\n",
      " [ 0.          3.31086954 -0.3007894  ...  0.83934123 -0.42094524\n",
      "  -0.15134887]\n",
      " [ 0.         -0.30203546 -0.3007894  ...  0.83934123 -0.95653276\n",
      "  -0.15134887]\n",
      " ...\n",
      " [ 0.         -0.30203546 -0.3007894  ... -1.19141056 -0.90385202\n",
      "  -0.15134887]\n",
      " [ 0.         -0.30203546 -0.3007894  ... -1.19141056 -0.39460487\n",
      "  -0.15134887]\n",
      " [ 0.         -0.30203546 -0.3007894  ...  0.83934123 -0.01705956\n",
      "  -0.15134887]]\n",
      "[-0.23383324 -0.23498186 -0.23500779 -0.23519671]\n"
     ]
    },
    {
     "data": {
      "text/plain": [
       "0.4845151177275482"
      ]
     },
     "execution_count": 34,
     "metadata": {},
     "output_type": "execute_result"
    }
   ],
   "source": [
    "#Implement k fold with sgd using polynomial regression model\n",
    "\n",
    "k_fold_closed(X_train_poly, y_train)"
   ]
  },
  {
   "cell_type": "code",
   "execution_count": 35,
   "metadata": {
    "colab": {
     "base_uri": "https://localhost:8080/"
    },
    "id": "MyxUjjPHOARk",
    "outputId": "fd29e33c-2429-4fab-f4b1-5a89b4b816b7"
   },
   "outputs": [
    {
     "name": "stdout",
     "output_type": "stream",
     "text": [
      "[-0.23573872 -0.23503918 -0.23824596 -0.23602374]\n"
     ]
    },
    {
     "data": {
      "text/plain": [
       "0.48606779140332806"
      ]
     },
     "execution_count": 35,
     "metadata": {},
     "output_type": "execute_result"
    }
   ],
   "source": [
    "#Implement k fold with sgd using polynomial regression model\n",
    "\n",
    "k_fold_sgd(X_train_poly,y_train)"
   ]
  },
  {
   "cell_type": "markdown",
   "metadata": {
    "id": "yqQSotBuHYXZ"
   },
   "source": [
    "**Observation** (K-fold polynomial regression):\n",
    "\n",
    "K-fold linear regression is similar to k-fold polynomial regression. Both performing more or less same results with or without sgd."
   ]
  },
  {
   "cell_type": "markdown",
   "metadata": {
    "id": "Eeb3ep54QaT9"
   },
   "source": [
    "\n",
    "\n",
    "# Regularization Of Linear Model"
   ]
  },
  {
   "cell_type": "code",
   "execution_count": 36,
   "metadata": {
    "colab": {
     "base_uri": "https://localhost:8080/"
    },
    "id": "WSgRDtLhQf14",
    "outputId": "2dfab8ac-8f6c-475a-d340-3c24874df4d7"
   },
   "outputs": [
    {
     "name": "stdout",
     "output_type": "stream",
     "text": [
      "alpha: 1e-09\n"
     ]
    },
    {
     "name": "stderr",
     "output_type": "stream",
     "text": [
      "/usr/local/lib/python3.8/dist-packages/sklearn/linear_model/_ridge.py:157: LinAlgWarning: Ill-conditioned matrix (rcond=8.11893e-17): result may not be accurate.\n",
      "  return linalg.solve(A, Xy, sym_pos=True, overwrite_a=True).T\n"
     ]
    },
    {
     "name": "stdout",
     "output_type": "stream",
     "text": [
      "Validation loss\n",
      "R^2: 0.8619328466937523\n",
      "MAE: 0.23507085486191912\n",
      "RMSE: 0.3729432236996928\n",
      "\n",
      "training loss\n",
      "R^2: 0.8618280642814838\n",
      "MAE: 0.23366171220256404\n",
      "RMSE: 0.37137150384396084\n",
      "\n",
      "alpha: 0.5\n",
      "Validation loss\n",
      "R^2: 0.8619328428283652\n",
      "MAE: 0.23507090477262857\n",
      "RMSE: 0.3729432289202318\n",
      "\n",
      "training loss\n",
      "R^2: 0.8618280642808281\n",
      "MAE: 0.23366176018319768\n",
      "RMSE: 0.371371503844842\n",
      "\n",
      "alpha: 5\n",
      "Validation loss\n",
      "R^2: 0.8619328079813877\n",
      "MAE: 0.23507135396945758\n",
      "RMSE: 0.37294327598408006\n",
      "\n",
      "training loss\n",
      "R^2: 0.8618280642159064\n",
      "MAE: 0.23366219211031075\n",
      "RMSE: 0.3713715039320888\n",
      "\n",
      "alpha: 1000\n",
      "Validation loss\n",
      "R^2: 0.8619225286208837\n",
      "MAE: 0.23517457238531597\n",
      "RMSE: 0.37295715888766123\n",
      "\n",
      "training loss\n",
      "R^2: 0.8618254523243127\n",
      "MAE: 0.2337614301973292\n",
      "RMSE: 0.3713750139702158\n",
      "\n"
     ]
    }
   ],
   "source": [
    "perform_ridge(X_train,y_train,X_test,y_test,alpha=0.000000001)\n",
    "perform_ridge(X_train,y_train,X_test,y_test,alpha=0.5)\n",
    "perform_ridge(X_train,y_train,X_test,y_test,alpha=5)\n",
    "perform_ridge(X_train,y_train,X_test,y_test,alpha=1000)"
   ]
  },
  {
   "cell_type": "markdown",
   "metadata": {
    "id": "JoP4qxz6IoEs"
   },
   "source": [
    "**Observation (ridge)**:\n",
    "Ridge regression in not improving the performance significantly. But seems like it resulting a model with minimum rmse than any other combination"
   ]
  },
  {
   "cell_type": "code",
   "execution_count": 37,
   "metadata": {
    "colab": {
     "base_uri": "https://localhost:8080/"
    },
    "id": "Hgw74aDHQkah",
    "outputId": "3dedf2f9-b145-4fcb-a2a3-e127e571c6e9"
   },
   "outputs": [
    {
     "name": "stderr",
     "output_type": "stream",
     "text": [
      "/usr/local/lib/python3.8/dist-packages/sklearn/linear_model/_coordinate_descent.py:647: ConvergenceWarning: Objective did not converge. You might want to increase the number of iterations, check the scale of the features or consider increasing regularisation. Duality gap: 6.622e+03, tolerance: 5.534e+01\n",
      "  model = cd_fast.enet_coordinate_descent(\n"
     ]
    },
    {
     "name": "stdout",
     "output_type": "stream",
     "text": [
      "alpha: 1e-10\n",
      "validation loss\n",
      "R^2: 0.861932846693331\n",
      "MAE: 0.23507085485754492\n",
      "RMSE: 0.3729432237002618\n",
      "\n",
      "training loss\n",
      "R^2: 0.8618280642814841\n",
      "MAE: 0.23366171219721604\n",
      "RMSE: 0.3713715038439606\n",
      "\n",
      "alpha: 0.1\n",
      "validation loss\n",
      "R^2: 0.7579664691277564\n",
      "MAE: 0.38277903411940556\n",
      "RMSE: 0.49378205579517426\n",
      "\n",
      "training loss\n",
      "R^2: 0.7580312395475854\n",
      "MAE: 0.38110373036219736\n",
      "RMSE: 0.49144882971320697\n",
      "\n",
      "alpha: 5\n",
      "validation loss\n",
      "R^2: -2.6180229866223925e-06\n",
      "MAE: 0.8008473084119796\n",
      "RMSE: 1.0036865484802193\n",
      "\n",
      "training loss\n",
      "R^2: 0.0\n",
      "MAE: 0.7973463512345691\n",
      "RMSE: 0.9990762967096172\n",
      "\n",
      "alpha: 100\n",
      "validation loss\n",
      "R^2: -2.6180229866223925e-06\n",
      "MAE: 0.8008473084119796\n",
      "RMSE: 1.0036865484802193\n",
      "\n",
      "training loss\n",
      "R^2: 0.0\n",
      "MAE: 0.7973463512345691\n",
      "RMSE: 0.9990762967096172\n",
      "\n"
     ]
    }
   ],
   "source": [
    "#Perform Regularization(Lasso)\n",
    "  \n",
    "perform_l(X_train, y_train,X_test,y_test,alpha=0.0000000001)\n",
    "perform_l(X_train, y_train,X_test,y_test,alpha=0.1)\n",
    "perform_l(X_train, y_train,X_test,y_test,alpha=5)\n",
    "perform_l(X_train, y_train,X_test,y_test,alpha=100)"
   ]
  },
  {
   "cell_type": "markdown",
   "metadata": {
    "id": "pZAZ4JjKI2sZ"
   },
   "source": [
    "**Observation (Lasso):**\n",
    "Lasso regression is not really improving the performance, It is actually decreasing with increasing value of alpha. for smaller value of alpha the results are more or less similar\n"
   ]
  },
  {
   "cell_type": "code",
   "execution_count": 38,
   "metadata": {
    "colab": {
     "base_uri": "https://localhost:8080/"
    },
    "id": "guUo7bUoQovx",
    "outputId": "0acf8616-02e9-4d94-8101-ed69c1c3d0fd"
   },
   "outputs": [
    {
     "name": "stderr",
     "output_type": "stream",
     "text": [
      "/usr/local/lib/python3.8/dist-packages/sklearn/linear_model/_coordinate_descent.py:647: ConvergenceWarning: Objective did not converge. You might want to increase the number of iterations, check the scale of the features or consider increasing regularisation. Duality gap: 6.647e+03, tolerance: 5.534e+01\n",
      "  model = cd_fast.enet_coordinate_descent(\n"
     ]
    },
    {
     "name": "stdout",
     "output_type": "stream",
     "text": [
      "alpha: 1e-10 ,l1 ratio: 0.5\n",
      "validation loss\n",
      "R^2: 0.8619328466933547\n",
      "MAE: 0.2350708548623474\n",
      "RMSE: 0.37294322370022975\n",
      "\n",
      "alpha: 1e-10 ,l1 ratio: 0.5\n",
      "training loss\n",
      "R^2: 0.861828064281484\n",
      "MAE: 0.2336617122024007\n",
      "RMSE: 0.37137150384396067\n",
      "\n",
      "alpha: 0.1 ,l1 ratio: 0.8\n",
      "validation loss\n",
      "R^2: 0.7867655674570522\n",
      "MAE: 0.35012721582295053\n",
      "RMSE: 0.4634748820668961\n",
      "\n",
      "alpha: 0.1 ,l1 ratio: 0.8\n",
      "training loss\n",
      "R^2: 0.7868509241562686\n",
      "MAE: 0.348479899743694\n",
      "RMSE: 0.4612542516910213\n",
      "\n",
      "alpha: 5 ,l1 ratio: 0.5\n",
      "validation loss\n",
      "R^2: -2.6180229866223925e-06\n",
      "MAE: 0.8008473084119796\n",
      "RMSE: 1.0036865484802193\n",
      "\n",
      "alpha: 5 ,l1 ratio: 0.5\n",
      "training loss\n",
      "R^2: 0.0\n",
      "MAE: 0.7973463512345691\n",
      "RMSE: 0.9990762967096172\n",
      "\n",
      "alpha: 100 ,l1 ratio: 0.2\n",
      "validation loss\n",
      "R^2: -2.6180229866223925e-06\n",
      "MAE: 0.8008473084119796\n",
      "RMSE: 1.0036865484802193\n",
      "\n",
      "alpha: 100 ,l1 ratio: 0.2\n",
      "training loss\n",
      "R^2: 0.0\n",
      "MAE: 0.7973463512345691\n",
      "RMSE: 0.9990762967096172\n",
      "\n"
     ]
    }
   ],
   "source": [
    "#Perform Regularization(Elastic net)\n",
    "    \n",
    "perform_en(X_train, y_train,X_test,y_test,alpha=0.0000000001,l1=0.5)\n",
    "perform_en(X_train, y_train,X_test,y_test,alpha=0.1,l1=0.8)\n",
    "perform_en(X_train, y_train,X_test,y_test,alpha=5,l1=0.5)\n",
    "perform_en(X_train, y_train,X_test,y_test,alpha=100,l1=0.2)"
   ]
  },
  {
   "cell_type": "markdown",
   "metadata": {
    "id": "rLz1TXfhJrux"
   },
   "source": [
    "**Observation(elastic net)**:\n",
    "Elasticnet is behaving similar like lasso regression. Performance is getting worse at increase value of alpha."
   ]
  },
  {
   "cell_type": "markdown",
   "metadata": {
    "id": "R3LXCN1GQwkJ"
   },
   "source": [
    "# Regularization of Polynomial Model"
   ]
  },
  {
   "cell_type": "code",
   "execution_count": 39,
   "metadata": {
    "colab": {
     "base_uri": "https://localhost:8080/"
    },
    "id": "vpvE1P0HRUxE",
    "outputId": "6b18c6b4-87bb-473d-93da-0c9eafed4a59"
   },
   "outputs": [
    {
     "name": "stdout",
     "output_type": "stream",
     "text": [
      "alpha: 0\n",
      "Validation loss\n",
      "R^2: -1.3000024577896782e+21\n",
      "MAE: 24034731741.192627\n",
      "RMSE: 36188419988.406746\n",
      "\n",
      "training loss\n",
      "R^2: 0.8611920571663053\n",
      "MAE: 0.23439072591390045\n",
      "RMSE: 0.37222523633068266\n",
      "\n",
      "alpha: 1e-09\n",
      "Validation loss\n",
      "R^2: 0.8619329789515859\n",
      "MAE: 0.23507161111378627\n",
      "RMSE: 0.3729430450740259\n",
      "\n",
      "training loss\n",
      "R^2: 0.861828064281484\n",
      "MAE: 0.2336617122025647\n",
      "RMSE: 0.3713715038439607\n",
      "\n",
      "alpha: 0.5\n",
      "Validation loss\n",
      "R^2: 0.8619329481501055\n",
      "MAE: 0.23507167698979428\n",
      "RMSE: 0.37294308667410253\n",
      "\n",
      "training loss\n",
      "R^2: 0.8618280642808309\n",
      "MAE: 0.23366176079273718\n",
      "RMSE: 0.37137150384483825\n",
      "\n",
      "alpha: 5\n",
      "Validation loss\n",
      "R^2: 0.8619329128611364\n",
      "MAE: 0.2350721316003453\n",
      "RMSE: 0.37294313433491666\n",
      "\n",
      "training loss\n",
      "R^2: 0.8618280642161844\n",
      "MAE: 0.23366219820667705\n",
      "RMSE: 0.37137150393171514\n",
      "\n",
      "alpha: 1000\n",
      "Validation loss\n",
      "R^2: 0.8619225489597883\n",
      "MAE: 0.23517654978778746\n",
      "RMSE: 0.3729571314192398\n",
      "\n",
      "training loss\n",
      "R^2: 0.8618254629282518\n",
      "MAE: 0.23376265689273606\n",
      "RMSE: 0.37137499971998594\n",
      "\n"
     ]
    }
   ],
   "source": [
    "#Perform Regularization(Ridge)\n",
    "perform_ridge(X_train_poly,y_train,X_test_poly,y_test,alpha=0)\n",
    "perform_ridge(X_train_poly,y_train,X_test_poly,y_test,alpha=0.000000001)\n",
    "perform_ridge(X_train_poly,y_train,X_test_poly,y_test,alpha=0.5)\n",
    "perform_ridge(X_train_poly,y_train,X_test_poly,y_test,alpha=5)\n",
    "perform_ridge(X_train_poly,y_train,X_test_poly,y_test,alpha=1000)"
   ]
  },
  {
   "cell_type": "markdown",
   "metadata": {
    "id": "uAmUC2s7KDNw"
   },
   "source": [
    "**Observation**: \n",
    "Ridge regression is not improving performance significantly in polynomial linear regression. The rmse is reducing with increasing alpha."
   ]
  },
  {
   "cell_type": "code",
   "execution_count": 40,
   "metadata": {
    "colab": {
     "base_uri": "https://localhost:8080/"
    },
    "id": "RshDhwgIRYCg",
    "outputId": "c25b2360-db4e-4dae-e412-f05a1f35b431"
   },
   "outputs": [
    {
     "name": "stderr",
     "output_type": "stream",
     "text": [
      "/usr/local/lib/python3.8/dist-packages/sklearn/linear_model/_coordinate_descent.py:647: ConvergenceWarning: Objective did not converge. You might want to increase the number of iterations, check the scale of the features or consider increasing regularisation. Duality gap: 9.474e+03, tolerance: 5.534e+01\n",
      "  model = cd_fast.enet_coordinate_descent(\n"
     ]
    },
    {
     "name": "stdout",
     "output_type": "stream",
     "text": [
      "alpha: 1e-10\n",
      "validation loss\n",
      "R^2: 0.8619330734165542\n",
      "MAE: 0.23507071253164294\n",
      "RMSE: 0.3729429174908469\n",
      "\n",
      "training loss\n",
      "R^2: 0.861828064281484\n",
      "MAE: 0.23366171220311557\n",
      "RMSE: 0.37137150384396067\n",
      "\n",
      "alpha: 0.1\n",
      "validation loss\n",
      "R^2: 0.7579664691277564\n",
      "MAE: 0.38277903411940556\n",
      "RMSE: 0.49378205579517426\n",
      "\n",
      "training loss\n",
      "R^2: 0.7580312395475854\n",
      "MAE: 0.38110373036219736\n",
      "RMSE: 0.49144882971320697\n",
      "\n",
      "alpha: 5\n",
      "validation loss\n",
      "R^2: -2.6180229866223925e-06\n",
      "MAE: 0.8008473084119796\n",
      "RMSE: 1.0036865484802193\n",
      "\n",
      "training loss\n",
      "R^2: 0.0\n",
      "MAE: 0.7973463512345691\n",
      "RMSE: 0.9990762967096172\n",
      "\n",
      "alpha: 100\n",
      "validation loss\n",
      "R^2: -2.6180229866223925e-06\n",
      "MAE: 0.8008473084119796\n",
      "RMSE: 1.0036865484802193\n",
      "\n",
      "training loss\n",
      "R^2: 0.0\n",
      "MAE: 0.7973463512345691\n",
      "RMSE: 0.9990762967096172\n",
      "\n"
     ]
    }
   ],
   "source": [
    "#Perform Regularization(Lasso)\n",
    "  \n",
    "perform_l(X_train_poly,y_train,X_test_poly,y_test,alpha=0.0000000001)\n",
    "perform_l(X_train_poly,y_train,X_test_poly,y_test,alpha=0.1)\n",
    "perform_l(X_train_poly,y_train,X_test_poly,y_test,alpha=5)\n",
    "perform_l(X_train_poly,y_train,X_test_poly,y_test,alpha=100)"
   ]
  },
  {
   "cell_type": "markdown",
   "metadata": {
    "id": "BIVCR_11Ko2W"
   },
   "source": [
    "**observation**: lasso is behaving similarly with polynomial regression as linear regression."
   ]
  },
  {
   "cell_type": "code",
   "execution_count": 41,
   "metadata": {
    "colab": {
     "base_uri": "https://localhost:8080/"
    },
    "id": "QgwIB4MlRbDl",
    "outputId": "d10ddb40-dcf3-4961-a3e9-83ad1c80c7f5"
   },
   "outputs": [
    {
     "name": "stderr",
     "output_type": "stream",
     "text": [
      "/usr/local/lib/python3.8/dist-packages/sklearn/linear_model/_coordinate_descent.py:647: ConvergenceWarning: Objective did not converge. You might want to increase the number of iterations, check the scale of the features or consider increasing regularisation. Duality gap: 9.460e+03, tolerance: 5.534e+01\n",
      "  model = cd_fast.enet_coordinate_descent(\n"
     ]
    },
    {
     "name": "stdout",
     "output_type": "stream",
     "text": [
      "alpha: 1e-10 ,l1 ratio: 0.5\n",
      "validation loss\n",
      "R^2: 0.8619330734166257\n",
      "MAE: 0.23507071250305533\n",
      "RMSE: 0.3729429174907503\n",
      "\n",
      "alpha: 1e-10 ,l1 ratio: 0.5\n",
      "training loss\n",
      "R^2: 0.861828064281484\n",
      "MAE: 0.23366171220539525\n",
      "RMSE: 0.37137150384396067\n",
      "\n",
      "alpha: 0.1 ,l1 ratio: 0.8\n",
      "validation loss\n",
      "R^2: 0.7867655674455376\n",
      "MAE: 0.35012721583410494\n",
      "RMSE: 0.46347488207940984\n",
      "\n",
      "alpha: 0.1 ,l1 ratio: 0.8\n",
      "training loss\n",
      "R^2: 0.786850924145734\n",
      "MAE: 0.34847989975420385\n",
      "RMSE: 0.4612542517024197\n",
      "\n",
      "alpha: 5 ,l1 ratio: 0.5\n",
      "validation loss\n",
      "R^2: -2.6180229866223925e-06\n",
      "MAE: 0.8008473084119796\n",
      "RMSE: 1.0036865484802193\n",
      "\n",
      "alpha: 5 ,l1 ratio: 0.5\n",
      "training loss\n",
      "R^2: 0.0\n",
      "MAE: 0.7973463512345691\n",
      "RMSE: 0.9990762967096172\n",
      "\n",
      "alpha: 100 ,l1 ratio: 0.2\n",
      "validation loss\n",
      "R^2: -2.6180229866223925e-06\n",
      "MAE: 0.8008473084119796\n",
      "RMSE: 1.0036865484802193\n",
      "\n",
      "alpha: 100 ,l1 ratio: 0.2\n",
      "training loss\n",
      "R^2: 0.0\n",
      "MAE: 0.7973463512345691\n",
      "RMSE: 0.9990762967096172\n",
      "\n"
     ]
    }
   ],
   "source": [
    "#Perform Regularization(Elastic net)\n",
    "    \n",
    "perform_en(X_train_poly,y_train,X_test_poly,y_test,alpha=0.0000000001,l1=0.5)\n",
    "perform_en(X_train_poly,y_train,X_test_poly,y_test,alpha=0.1,l1=0.8)\n",
    "perform_en(X_train_poly,y_train,X_test_poly,y_test,alpha=5,l1=0.5)\n",
    "perform_en(X_train_poly,y_train,X_test_poly,y_test,alpha=100,l1=0.2)"
   ]
  },
  {
   "cell_type": "markdown",
   "metadata": {
    "id": "Dv2zAWvSKyjM"
   },
   "source": [
    "**observation**: elastic net is also similar with polynomial regression as it is with linear regression."
   ]
  },
  {
   "cell_type": "code",
   "execution_count": null,
   "metadata": {
    "id": "pijyxHagLAQw"
   },
   "outputs": [],
   "source": []
  },
  {
   "cell_type": "markdown",
   "metadata": {
    "id": "wD_wOiReLFFl"
   },
   "source": [
    "# Final Thoughts"
   ]
  },
  {
   "cell_type": "markdown",
   "metadata": {
    "id": "w_ndMoHgL3Q4"
   },
   "source": [
    "There is not much model performance metrics difference with different hyperparameter combinations. The rmse is more or less similar for the dataset. Linear and polynomial is also performing in similar manner. With SGD and closed form I have observed similar performance for this dataset. K-fold gives robust model but high variablity due to diversity in the dataset."
   ]
  },
  {
   "cell_type": "markdown",
   "metadata": {
    "id": "P3D0thLqMitb"
   },
   "source": [
    "I would go with ridge regression linear model as my final model for this dataset."
   ]
  },
  {
   "cell_type": "code",
   "execution_count": 46,
   "metadata": {
    "colab": {
     "base_uri": "https://localhost:8080/"
    },
    "id": "MMMn8U1UMonk",
    "outputId": "ece17a88-19f5-499c-902b-be40c590b61e"
   },
   "outputs": [
    {
     "name": "stdout",
     "output_type": "stream",
     "text": [
      "alpha: 1e-18\n"
     ]
    }
   ],
   "source": [
    "  rdg = Ridge(alpha = 0.000000000000000001)\n",
    "  print(\"alpha:\",0.000000000000000001)\n",
    "  rdg.fit(X_train, y_train)\n",
    "  pred_test_rr= rdg.predict(X_test)\n"
   ]
  },
  {
   "cell_type": "markdown",
   "metadata": {
    "id": "6TUSrlHCNQrw"
   },
   "source": [
    "Scaled predicted values of price for uber and lyft dataset:"
   ]
  },
  {
   "cell_type": "code",
   "execution_count": 48,
   "metadata": {
    "colab": {
     "base_uri": "https://localhost:8080/"
    },
    "id": "AeRuGwMmNFxP",
    "outputId": "d84b13e9-597d-42bb-eb5f-808761e553f6"
   },
   "outputs": [
    {
     "name": "stdout",
     "output_type": "stream",
     "text": [
      "[[-0.73213572]\n",
      " [-0.19163039]\n",
      " [-0.1027623 ]\n",
      " ...\n",
      " [ 1.37847291]\n",
      " [ 1.43721421]\n",
      " [-0.89270137]]\n"
     ]
    }
   ],
   "source": [
    "print(pred_test_rr)"
   ]
  },
  {
   "cell_type": "markdown",
   "metadata": {
    "id": "lQQ0mSpuOf_R"
   },
   "source": [
    "# Future Exploration"
   ]
  },
  {
   "cell_type": "markdown",
   "metadata": {
    "id": "3PGYCwv-OIdd"
   },
   "source": [
    "We can explore the gridserach CV for getting optimal hyperparameter.\n",
    "Grid Search CV is to exhaustively search over a pre-defined hyperparameter space, evaluating the performance of the model with each combination of hyperparameters. Using gridserach cv gives best possible hyperparameter in return which will help to get the best performing model.\n"
   ]
  }
 ],
 "metadata": {
  "accelerator": "GPU",
  "colab": {
   "collapsed_sections": [
    "3Ohi48w8GhTn",
    "uhcQmI4IGmUc"
   ],
   "provenance": [],
   "toc_visible": true
  },
  "gpuClass": "standard",
  "kernelspec": {
   "display_name": "Python 3 (ipykernel)",
   "language": "python",
   "name": "python3"
  },
  "language_info": {
   "codemirror_mode": {
    "name": "ipython",
    "version": 3
   },
   "file_extension": ".py",
   "mimetype": "text/x-python",
   "name": "python",
   "nbconvert_exporter": "python",
   "pygments_lexer": "ipython3",
   "version": "3.11.7"
  }
 },
 "nbformat": 4,
 "nbformat_minor": 4
}
